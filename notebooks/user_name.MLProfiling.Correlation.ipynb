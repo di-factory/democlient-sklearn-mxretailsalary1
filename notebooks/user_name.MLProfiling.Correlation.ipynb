{
 "cells": [
  {
   "cell_type": "markdown",
   "metadata": {},
   "source": [
    "# Notebook for make profiling of di-f Correlation experiments"
   ]
  },
  {
   "cell_type": "markdown",
   "metadata": {},
   "source": [
    "## Experiment name: mxretailsalary1\n",
    "\n",
    "## Experiment General Data\n",
    "### Team roles:\n",
    "* PipeMaster: jag.pascoe\n",
    "* BizEngineer: \n",
    "* DataEngineer:\n",
    "* MLEngineer:\n",
    "* SWEngineer:\n",
    "\n",
    "### Description (Use case):\n",
    "Predict salary per day estimation to be obtained for working in retail sector in any state of Mexico.\n",
    "Supposing you are looking for being hired in a Retail Business in any of Mexico's state you want to. You want to predict which would be the base salary per day you might get as attendant of that retail business. This salary not include any commision, tax, or any other concept.\n",
    "\n",
    "### Type of experiment: Correlation\n",
    "### Independent Variables (inputs):\n",
    "1) State of Mexico where you are supposing to get hired (CAT). \n",
    "2) How many employees (including yourself) work in that particular business now (NUMBER)\n",
    "3) How much sales per day in average, you estimate you will provide to that business in pesos (FLOAT)\n",
    "\n",
    "### Dependent Variables (outputs):\n",
    "1) Estimated base salary per day (FLOAT)"
   ]
  },
  {
   "cell_type": "markdown",
   "metadata": {},
   "source": [
    "## Experiment preparation, imports and config.yaml"
   ]
  },
  {
   "cell_type": "code",
   "execution_count": 1,
   "metadata": {},
   "outputs": [
    {
     "name": "stderr",
     "output_type": "stream",
     "text": [
      "/home/jagpascoe/democlient-sklearn/lib/python3.10/site-packages/numba/core/decorators.py:262: NumbaDeprecationWarning: \u001b[1mnumba.generated_jit is deprecated. Please see the documentation at: https://numba.readthedocs.io/en/stable/reference/deprecation.html#deprecation-of-generated-jit for more information and advice on a suitable replacement.\u001b[0m\n",
      "  warnings.warn(msg, NumbaDeprecationWarning)\n",
      "/home/jagpascoe/democlient-sklearn/lib/python3.10/site-packages/visions/backends/shared/nan_handling.py:51: NumbaDeprecationWarning: \u001b[1mThe 'nopython' keyword argument was not supplied to the 'numba.jit' decorator. The implicit default value for this argument is currently False, but it will be changed to True in Numba 0.59.0. See https://numba.readthedocs.io/en/stable/reference/deprecation.html#deprecation-of-object-mode-fall-back-behaviour-when-using-jit for details.\u001b[0m\n",
      "  def hasna(x: np.ndarray) -> bool:\n"
     ]
    },
    {
     "name": "stdout",
     "output_type": "stream",
     "text": [
      "{'general_ml': {'seed': 123, 'encoding': 'iso-8859-1', 'cloud': 'AWS'}, 'paths': {'project_dir': '...', 'raw_data': '${hydra:runtime.cwd}/data/raw', 'interim_data': '${hydra:runtime.cwd}/data/interim', 'processed_data': '${hydra:runtime.cwd}/data/processed', 'reports': '${hydra:runtime.cwd}/reports'}, 'cloud_paths': {'bucket_path': 'dif-b-democlient-sklearn', 'experiment_path': '${cloud_paths.bucket_path}/mxretailsalary1', 'mlflow_path': '${cloud_paths.experiment_path}/mlflow', 'reports_path': '${cloud_paths.experiment_path}/reports', 'rawdata_path': '${cloud_paths.experiment_path}/raw-data', 'dvc_path': '${cloud_paths.experiment_path}/dvc-store'}, 'file_names': {'raw_file': 'raw-data.csv', 'data_file': 'datafile.csv', 'train_features': 'train_features.csv', 'train_labels': 'train_labels.csv', 'validation_features': 'valid_features.csv', 'validation_labels': 'valid_labels.csv', 'test_features': 'test_features.csv', 'test_labels': 'test_labels.csv', 'data_profiling_report': 'data_profiling_report.html'}, 'data_fields': {'description': 'About what is the dataset', 'label': 'payroll_employee_day'}, 'data_pipeline': {'drop_features': ['field', 'from', 'zipcode', 'undergra', 'race', 'race_o'], 'keep_features': ['dec_o', 'dec', 'like', 'attr', 'from', 'zipcode', 'prob', 'like_o', 'fun', 'undergra', 'match'], 'standarize_text': ['field', 'from', 'zipcode', 'undergra'], 'str_to_float': ['income'], 'to_categorize': ['field', 'from', 'zipcode', 'undergra', 'race', 'race_o'], 'category_to_num': ['field', 'from', 'zipcode', 'undergra'], 'onehot_encoding': ['race', 'race_o'], 'numerical_vars_from_numerical': ['income', 'mn_sat', 'tuition'], 'categorical_vars': ['undergra', 'zipcode'], 'categorical_label_extraction': ['zipcode'], 'pipeline01': 'decisiontree', 'data_transform_params': {'percent_valid': 0.2, 'percent_test': 0.1}}, 'mlflow': {'tracking_uri': 'http://3.140.194.152:5000', 'tracking_experiment_name': 'mxretailsalary1'}}\n"
     ]
    }
   ],
   "source": [
    "%load_ext autoreload\n",
    "%autoreload 2\n",
    "# The %load_ext autoreload and %autoreload 2 magic commands are used to automatically \n",
    "# reload modules when they are changed. This can be useful when you are developing code \n",
    "# in an interactive environment, as it allows you to see the changes you make to your modules \n",
    "# without having to restart the kernel.\n",
    "import os\n",
    "from hydra import initialize, initialize_config_module, initialize_config_dir, compose\n",
    "from omegaconf import OmegaConf\n",
    "import pandas as pd\n",
    "import numpy as np\n",
    "import ydata_profiling as yp\n",
    "import os\n",
    "\n",
    "# for global initialization: NOT RECOMMENDED\n",
    "#initialize(version_base=None, config_path=\"../src/conf\")\n",
    "#compose(config_name='config')\n",
    "\n",
    "with initialize(version_base=None, config_path=\"../src/conf\"):\n",
    "    cfg = compose(config_name='config')\n",
    "    print(cfg)"
   ]
  },
  {
   "cell_type": "code",
   "execution_count": 2,
   "metadata": {},
   "outputs": [
    {
     "data": {
      "text/html": [
       "<div>\n",
       "<style scoped>\n",
       "    .dataframe tbody tr th:only-of-type {\n",
       "        vertical-align: middle;\n",
       "    }\n",
       "\n",
       "    .dataframe tbody tr th {\n",
       "        vertical-align: top;\n",
       "    }\n",
       "\n",
       "    .dataframe thead th {\n",
       "        text-align: right;\n",
       "    }\n",
       "</style>\n",
       "<table border=\"1\" class=\"dataframe\">\n",
       "  <thead>\n",
       "    <tr style=\"text-align: right;\">\n",
       "      <th></th>\n",
       "      <th>state</th>\n",
       "      <th>municipio</th>\n",
       "      <th>businesses</th>\n",
       "      <th>employees</th>\n",
       "      <th>payroll</th>\n",
       "      <th>expenditures</th>\n",
       "      <th>income</th>\n",
       "      <th>payroll_employee_day</th>\n",
       "      <th>profits_biz_day</th>\n",
       "      <th>sales_employee_day</th>\n",
       "      <th>employees_unit</th>\n",
       "    </tr>\n",
       "  </thead>\n",
       "  <tbody>\n",
       "    <tr>\n",
       "      <th>0</th>\n",
       "      <td>Ags</td>\n",
       "      <td>Aguascalientes</td>\n",
       "      <td>11402</td>\n",
       "      <td>120923</td>\n",
       "      <td>4997.813674</td>\n",
       "      <td>129044.643300</td>\n",
       "      <td>159695.334000</td>\n",
       "      <td>114.807074</td>\n",
       "      <td>6249.604612</td>\n",
       "      <td>3668.434872</td>\n",
       "      <td>10.6054201</td>\n",
       "    </tr>\n",
       "    <tr>\n",
       "      <th>1</th>\n",
       "      <td>Ags</td>\n",
       "      <td>Asientos</td>\n",
       "      <td>231</td>\n",
       "      <td>1647</td>\n",
       "      <td>29.092255</td>\n",
       "      <td>524.807734</td>\n",
       "      <td>621.055144</td>\n",
       "      <td>49.066071</td>\n",
       "      <td>807.5415528</td>\n",
       "      <td>1047.451838</td>\n",
       "      <td>7.12987013</td>\n",
       "    </tr>\n",
       "    <tr>\n",
       "      <th>2</th>\n",
       "      <td>Ags</td>\n",
       "      <td>Calvillo</td>\n",
       "      <td>591</td>\n",
       "      <td>4605</td>\n",
       "      <td>99.342787</td>\n",
       "      <td>1743.278407</td>\n",
       "      <td>2246.247441</td>\n",
       "      <td>59.924470</td>\n",
       "      <td>1897.09648</td>\n",
       "      <td>1354.956835</td>\n",
       "      <td>7.791878173</td>\n",
       "    </tr>\n",
       "    <tr>\n",
       "      <th>3</th>\n",
       "      <td>Ags</td>\n",
       "      <td>Cosio</td>\n",
       "      <td>104</td>\n",
       "      <td>468</td>\n",
       "      <td>4.577495</td>\n",
       "      <td>101.941048</td>\n",
       "      <td>136.364948</td>\n",
       "      <td>27.169366</td>\n",
       "      <td>797.1796419</td>\n",
       "      <td>809.383597</td>\n",
       "      <td>4.5</td>\n",
       "    </tr>\n",
       "    <tr>\n",
       "      <th>4</th>\n",
       "      <td>Ags</td>\n",
       "      <td>El Llano</td>\n",
       "      <td>104</td>\n",
       "      <td>860</td>\n",
       "      <td>14.802274</td>\n",
       "      <td>342.630524</td>\n",
       "      <td>427.291666</td>\n",
       "      <td>47.810963</td>\n",
       "      <td>1865.888567</td>\n",
       "      <td>1380.141041</td>\n",
       "      <td>8.269230769</td>\n",
       "    </tr>\n",
       "  </tbody>\n",
       "</table>\n",
       "</div>"
      ],
      "text/plain": [
       "  state       municipio  businesses  employees      payroll   expenditures  \\\n",
       "0   Ags  Aguascalientes       11402     120923  4997.813674  129044.643300   \n",
       "1   Ags        Asientos         231       1647    29.092255     524.807734   \n",
       "2   Ags        Calvillo         591       4605    99.342787    1743.278407   \n",
       "3   Ags           Cosio         104        468     4.577495     101.941048   \n",
       "4   Ags        El Llano         104        860    14.802274     342.630524   \n",
       "\n",
       "          income  payroll_employee_day profits_biz_day  sales_employee_day  \\\n",
       "0  159695.334000            114.807074     6249.604612         3668.434872   \n",
       "1     621.055144             49.066071     807.5415528         1047.451838   \n",
       "2    2246.247441             59.924470      1897.09648         1354.956835   \n",
       "3     136.364948             27.169366     797.1796419          809.383597   \n",
       "4     427.291666             47.810963     1865.888567         1380.141041   \n",
       "\n",
       "  employees_unit  \n",
       "0     10.6054201  \n",
       "1     7.12987013  \n",
       "2    7.791878173  \n",
       "3            4.5  \n",
       "4    8.269230769  "
      ]
     },
     "execution_count": 2,
     "metadata": {},
     "output_type": "execute_result"
    }
   ],
   "source": [
    "#reading raw-data\n",
    "\n",
    "raw_file = pd.read_csv(os.path.join('../data/raw', cfg.file_names.raw_file), \n",
    "                   #encoding=cfg.general_ml.encoding,\n",
    "                   )\n",
    "raw_file.head()"
   ]
  },
  {
   "cell_type": "code",
   "execution_count": 3,
   "metadata": {},
   "outputs": [
    {
     "data": {
      "text/html": [
       "<div>\n",
       "<style scoped>\n",
       "    .dataframe tbody tr th:only-of-type {\n",
       "        vertical-align: middle;\n",
       "    }\n",
       "\n",
       "    .dataframe tbody tr th {\n",
       "        vertical-align: top;\n",
       "    }\n",
       "\n",
       "    .dataframe thead th {\n",
       "        text-align: right;\n",
       "    }\n",
       "</style>\n",
       "<table border=\"1\" class=\"dataframe\">\n",
       "  <thead>\n",
       "    <tr style=\"text-align: right;\">\n",
       "      <th></th>\n",
       "      <th>state</th>\n",
       "      <th>businesses</th>\n",
       "      <th>employees</th>\n",
       "      <th>payroll</th>\n",
       "      <th>income</th>\n",
       "    </tr>\n",
       "  </thead>\n",
       "  <tbody>\n",
       "    <tr>\n",
       "      <th>0</th>\n",
       "      <td>Ags</td>\n",
       "      <td>11402</td>\n",
       "      <td>120923</td>\n",
       "      <td>4997.813674</td>\n",
       "      <td>159695.334000</td>\n",
       "    </tr>\n",
       "    <tr>\n",
       "      <th>1</th>\n",
       "      <td>Ags</td>\n",
       "      <td>231</td>\n",
       "      <td>1647</td>\n",
       "      <td>29.092255</td>\n",
       "      <td>621.055144</td>\n",
       "    </tr>\n",
       "    <tr>\n",
       "      <th>2</th>\n",
       "      <td>Ags</td>\n",
       "      <td>591</td>\n",
       "      <td>4605</td>\n",
       "      <td>99.342787</td>\n",
       "      <td>2246.247441</td>\n",
       "    </tr>\n",
       "    <tr>\n",
       "      <th>3</th>\n",
       "      <td>Ags</td>\n",
       "      <td>104</td>\n",
       "      <td>468</td>\n",
       "      <td>4.577495</td>\n",
       "      <td>136.364948</td>\n",
       "    </tr>\n",
       "    <tr>\n",
       "      <th>4</th>\n",
       "      <td>Ags</td>\n",
       "      <td>104</td>\n",
       "      <td>860</td>\n",
       "      <td>14.802274</td>\n",
       "      <td>427.291666</td>\n",
       "    </tr>\n",
       "    <tr>\n",
       "      <th>...</th>\n",
       "      <td>...</td>\n",
       "      <td>...</td>\n",
       "      <td>...</td>\n",
       "      <td>...</td>\n",
       "      <td>...</td>\n",
       "    </tr>\n",
       "    <tr>\n",
       "      <th>2482</th>\n",
       "      <td>Zacatecas</td>\n",
       "      <td>147</td>\n",
       "      <td>785</td>\n",
       "      <td>2.811121</td>\n",
       "      <td>160.114046</td>\n",
       "    </tr>\n",
       "    <tr>\n",
       "      <th>2483</th>\n",
       "      <td>Zacatecas</td>\n",
       "      <td>149</td>\n",
       "      <td>875</td>\n",
       "      <td>4.875017</td>\n",
       "      <td>289.174975</td>\n",
       "    </tr>\n",
       "    <tr>\n",
       "      <th>2484</th>\n",
       "      <td>Zacatecas</td>\n",
       "      <td>96</td>\n",
       "      <td>604</td>\n",
       "      <td>7.800028</td>\n",
       "      <td>219.851736</td>\n",
       "    </tr>\n",
       "    <tr>\n",
       "      <th>2485</th>\n",
       "      <td>Zacatecas</td>\n",
       "      <td>339</td>\n",
       "      <td>2043</td>\n",
       "      <td>34.189010</td>\n",
       "      <td>1282.438977</td>\n",
       "    </tr>\n",
       "    <tr>\n",
       "      <th>2486</th>\n",
       "      <td>Zacatecas</td>\n",
       "      <td>2282</td>\n",
       "      <td>24026</td>\n",
       "      <td>817.625123</td>\n",
       "      <td>23067.007300</td>\n",
       "    </tr>\n",
       "  </tbody>\n",
       "</table>\n",
       "<p>2487 rows × 5 columns</p>\n",
       "</div>"
      ],
      "text/plain": [
       "          state  businesses  employees      payroll         income\n",
       "0           Ags       11402     120923  4997.813674  159695.334000\n",
       "1           Ags         231       1647    29.092255     621.055144\n",
       "2           Ags         591       4605    99.342787    2246.247441\n",
       "3           Ags         104        468     4.577495     136.364948\n",
       "4           Ags         104        860    14.802274     427.291666\n",
       "...         ...         ...        ...          ...            ...\n",
       "2482  Zacatecas         147        785     2.811121     160.114046\n",
       "2483  Zacatecas         149        875     4.875017     289.174975\n",
       "2484  Zacatecas          96        604     7.800028     219.851736\n",
       "2485  Zacatecas         339       2043    34.189010    1282.438977\n",
       "2486  Zacatecas        2282      24026   817.625123   23067.007300\n",
       "\n",
       "[2487 rows x 5 columns]"
      ]
     },
     "execution_count": 3,
     "metadata": {},
     "output_type": "execute_result"
    }
   ],
   "source": [
    "#cutting dataset for this experiment\n",
    "data=raw_file[['state',\n",
    "        'businesses',\n",
    "        'employees',\n",
    "        'payroll',\n",
    "        'income']]\n",
    "data"
   ]
  },
  {
   "cell_type": "code",
   "execution_count": 4,
   "metadata": {},
   "outputs": [
    {
     "data": {
      "text/html": [
       "<div>\n",
       "<style scoped>\n",
       "    .dataframe tbody tr th:only-of-type {\n",
       "        vertical-align: middle;\n",
       "    }\n",
       "\n",
       "    .dataframe tbody tr th {\n",
       "        vertical-align: top;\n",
       "    }\n",
       "\n",
       "    .dataframe thead th {\n",
       "        text-align: right;\n",
       "    }\n",
       "</style>\n",
       "<table border=\"1\" class=\"dataframe\">\n",
       "  <thead>\n",
       "    <tr style=\"text-align: right;\">\n",
       "      <th></th>\n",
       "      <th>businesses</th>\n",
       "      <th>employees</th>\n",
       "      <th>payroll</th>\n",
       "      <th>income</th>\n",
       "    </tr>\n",
       "    <tr>\n",
       "      <th>state</th>\n",
       "      <th></th>\n",
       "      <th></th>\n",
       "      <th></th>\n",
       "      <th></th>\n",
       "    </tr>\n",
       "  </thead>\n",
       "  <tbody>\n",
       "    <tr>\n",
       "      <th>Ags</th>\n",
       "      <td>6</td>\n",
       "      <td>6</td>\n",
       "      <td>6</td>\n",
       "      <td>6</td>\n",
       "    </tr>\n",
       "    <tr>\n",
       "      <th>BC</th>\n",
       "      <td>6</td>\n",
       "      <td>6</td>\n",
       "      <td>6</td>\n",
       "      <td>6</td>\n",
       "    </tr>\n",
       "    <tr>\n",
       "      <th>BCS</th>\n",
       "      <td>5</td>\n",
       "      <td>5</td>\n",
       "      <td>5</td>\n",
       "      <td>5</td>\n",
       "    </tr>\n",
       "    <tr>\n",
       "      <th>CDMX</th>\n",
       "      <td>17</td>\n",
       "      <td>17</td>\n",
       "      <td>17</td>\n",
       "      <td>17</td>\n",
       "    </tr>\n",
       "    <tr>\n",
       "      <th>Campeche</th>\n",
       "      <td>8</td>\n",
       "      <td>8</td>\n",
       "      <td>8</td>\n",
       "      <td>8</td>\n",
       "    </tr>\n",
       "    <tr>\n",
       "      <th>Chiapas</th>\n",
       "      <td>51</td>\n",
       "      <td>51</td>\n",
       "      <td>51</td>\n",
       "      <td>51</td>\n",
       "    </tr>\n",
       "    <tr>\n",
       "      <th>Chihuahua</th>\n",
       "      <td>10</td>\n",
       "      <td>10</td>\n",
       "      <td>10</td>\n",
       "      <td>10</td>\n",
       "    </tr>\n",
       "    <tr>\n",
       "      <th>Coahuila</th>\n",
       "      <td>15</td>\n",
       "      <td>15</td>\n",
       "      <td>15</td>\n",
       "      <td>15</td>\n",
       "    </tr>\n",
       "    <tr>\n",
       "      <th>Colima</th>\n",
       "      <td>7</td>\n",
       "      <td>7</td>\n",
       "      <td>7</td>\n",
       "      <td>7</td>\n",
       "    </tr>\n",
       "    <tr>\n",
       "      <th>Durango</th>\n",
       "      <td>9</td>\n",
       "      <td>9</td>\n",
       "      <td>9</td>\n",
       "      <td>9</td>\n",
       "    </tr>\n",
       "    <tr>\n",
       "      <th>Guanajuato</th>\n",
       "      <td>34</td>\n",
       "      <td>34</td>\n",
       "      <td>34</td>\n",
       "      <td>34</td>\n",
       "    </tr>\n",
       "    <tr>\n",
       "      <th>Guerrero</th>\n",
       "      <td>28</td>\n",
       "      <td>28</td>\n",
       "      <td>28</td>\n",
       "      <td>28</td>\n",
       "    </tr>\n",
       "    <tr>\n",
       "      <th>Hidalgo</th>\n",
       "      <td>32</td>\n",
       "      <td>32</td>\n",
       "      <td>32</td>\n",
       "      <td>32</td>\n",
       "    </tr>\n",
       "    <tr>\n",
       "      <th>Jalisco</th>\n",
       "      <td>46</td>\n",
       "      <td>46</td>\n",
       "      <td>46</td>\n",
       "      <td>46</td>\n",
       "    </tr>\n",
       "    <tr>\n",
       "      <th>Mexico</th>\n",
       "      <td>79</td>\n",
       "      <td>79</td>\n",
       "      <td>79</td>\n",
       "      <td>79</td>\n",
       "    </tr>\n",
       "    <tr>\n",
       "      <th>Michoacan</th>\n",
       "      <td>46</td>\n",
       "      <td>46</td>\n",
       "      <td>46</td>\n",
       "      <td>46</td>\n",
       "    </tr>\n",
       "    <tr>\n",
       "      <th>Morelos</th>\n",
       "      <td>22</td>\n",
       "      <td>22</td>\n",
       "      <td>22</td>\n",
       "      <td>22</td>\n",
       "    </tr>\n",
       "    <tr>\n",
       "      <th>Nayarit</th>\n",
       "      <td>12</td>\n",
       "      <td>12</td>\n",
       "      <td>12</td>\n",
       "      <td>12</td>\n",
       "    </tr>\n",
       "    <tr>\n",
       "      <th>Nuevo Leon</th>\n",
       "      <td>16</td>\n",
       "      <td>16</td>\n",
       "      <td>16</td>\n",
       "      <td>16</td>\n",
       "    </tr>\n",
       "    <tr>\n",
       "      <th>Oaxaca</th>\n",
       "      <td>34</td>\n",
       "      <td>34</td>\n",
       "      <td>34</td>\n",
       "      <td>34</td>\n",
       "    </tr>\n",
       "    <tr>\n",
       "      <th>Puebla</th>\n",
       "      <td>60</td>\n",
       "      <td>60</td>\n",
       "      <td>60</td>\n",
       "      <td>60</td>\n",
       "    </tr>\n",
       "    <tr>\n",
       "      <th>Queretaro</th>\n",
       "      <td>12</td>\n",
       "      <td>12</td>\n",
       "      <td>12</td>\n",
       "      <td>12</td>\n",
       "    </tr>\n",
       "    <tr>\n",
       "      <th>Quintana Roo</th>\n",
       "      <td>9</td>\n",
       "      <td>9</td>\n",
       "      <td>9</td>\n",
       "      <td>9</td>\n",
       "    </tr>\n",
       "    <tr>\n",
       "      <th>SLP</th>\n",
       "      <td>17</td>\n",
       "      <td>17</td>\n",
       "      <td>17</td>\n",
       "      <td>17</td>\n",
       "    </tr>\n",
       "    <tr>\n",
       "      <th>Sinaloa</th>\n",
       "      <td>13</td>\n",
       "      <td>13</td>\n",
       "      <td>13</td>\n",
       "      <td>13</td>\n",
       "    </tr>\n",
       "    <tr>\n",
       "      <th>Sonora</th>\n",
       "      <td>13</td>\n",
       "      <td>13</td>\n",
       "      <td>13</td>\n",
       "      <td>13</td>\n",
       "    </tr>\n",
       "    <tr>\n",
       "      <th>Tabasco</th>\n",
       "      <td>15</td>\n",
       "      <td>15</td>\n",
       "      <td>15</td>\n",
       "      <td>15</td>\n",
       "    </tr>\n",
       "    <tr>\n",
       "      <th>Tamaulipas</th>\n",
       "      <td>14</td>\n",
       "      <td>14</td>\n",
       "      <td>14</td>\n",
       "      <td>14</td>\n",
       "    </tr>\n",
       "    <tr>\n",
       "      <th>Tlaxcala</th>\n",
       "      <td>23</td>\n",
       "      <td>23</td>\n",
       "      <td>23</td>\n",
       "      <td>23</td>\n",
       "    </tr>\n",
       "    <tr>\n",
       "      <th>Veracruz</th>\n",
       "      <td>61</td>\n",
       "      <td>61</td>\n",
       "      <td>61</td>\n",
       "      <td>61</td>\n",
       "    </tr>\n",
       "    <tr>\n",
       "      <th>Yucatan</th>\n",
       "      <td>14</td>\n",
       "      <td>14</td>\n",
       "      <td>14</td>\n",
       "      <td>14</td>\n",
       "    </tr>\n",
       "    <tr>\n",
       "      <th>Zacatecas</th>\n",
       "      <td>16</td>\n",
       "      <td>16</td>\n",
       "      <td>16</td>\n",
       "      <td>16</td>\n",
       "    </tr>\n",
       "  </tbody>\n",
       "</table>\n",
       "</div>"
      ],
      "text/plain": [
       "              businesses  employees  payroll  income\n",
       "state                                               \n",
       "Ags                    6          6        6       6\n",
       "BC                     6          6        6       6\n",
       "BCS                    5          5        5       5\n",
       "CDMX                  17         17       17      17\n",
       "Campeche               8          8        8       8\n",
       "Chiapas               51         51       51      51\n",
       "Chihuahua             10         10       10      10\n",
       "Coahuila              15         15       15      15\n",
       "Colima                 7          7        7       7\n",
       "Durango                9          9        9       9\n",
       "Guanajuato            34         34       34      34\n",
       "Guerrero              28         28       28      28\n",
       "Hidalgo               32         32       32      32\n",
       "Jalisco               46         46       46      46\n",
       "Mexico                79         79       79      79\n",
       "Michoacan             46         46       46      46\n",
       "Morelos               22         22       22      22\n",
       "Nayarit               12         12       12      12\n",
       "Nuevo Leon            16         16       16      16\n",
       "Oaxaca                34         34       34      34\n",
       "Puebla                60         60       60      60\n",
       "Queretaro             12         12       12      12\n",
       "Quintana Roo           9          9        9       9\n",
       "SLP                   17         17       17      17\n",
       "Sinaloa               13         13       13      13\n",
       "Sonora                13         13       13      13\n",
       "Tabasco               15         15       15      15\n",
       "Tamaulipas            14         14       14      14\n",
       "Tlaxcala              23         23       23      23\n",
       "Veracruz              61         61       61      61\n",
       "Yucatan               14         14       14      14\n",
       "Zacatecas             16         16       16      16"
      ]
     },
     "execution_count": 4,
     "metadata": {},
     "output_type": "execute_result"
    }
   ],
   "source": [
    "#Taking a sample of the data, reducing from 2487 records to 750\n",
    "data=data.sort_values(by='businesses',ascending=False)\n",
    "data = data.head(750)\n",
    "data = data.sample(frac=1).reset_index(drop=True)\n",
    "data.groupby('state').count() #to show data distribution by state"
   ]
  },
  {
   "cell_type": "markdown",
   "metadata": {},
   "source": [
    "## Data preparation and homologation for EDA"
   ]
  },
  {
   "cell_type": "code",
   "execution_count": 5,
   "metadata": {},
   "outputs": [
    {
     "data": {
      "text/plain": [
       "state          object\n",
       "businesses      int64\n",
       "employees       int64\n",
       "payroll       float64\n",
       "income        float64\n",
       "dtype: object"
      ]
     },
     "execution_count": 5,
     "metadata": {},
     "output_type": "execute_result"
    }
   ],
   "source": [
    "#reviewing data types\n",
    "data.dtypes"
   ]
  },
  {
   "cell_type": "code",
   "execution_count": 6,
   "metadata": {},
   "outputs": [
    {
     "data": {
      "text/plain": [
       "0"
      ]
     },
     "execution_count": 6,
     "metadata": {},
     "output_type": "execute_result"
    }
   ],
   "source": [
    "# Finding number of records with 0, NaN, or empty values\n",
    "mask=data.apply(lambda x: any([val == 0 or pd.isna(val) or val == '' for val in x]), axis=1)\n",
    "mask.sum()\n",
    "\n"
   ]
  },
  {
   "cell_type": "code",
   "execution_count": 7,
   "metadata": {},
   "outputs": [
    {
     "data": {
      "text/plain": [
       "state         0\n",
       "businesses    0\n",
       "employees     0\n",
       "payroll       0\n",
       "income        0\n",
       "dtype: int64"
      ]
     },
     "execution_count": 7,
     "metadata": {},
     "output_type": "execute_result"
    }
   ],
   "source": [
    "#finding recosrds with nan \n",
    "data.isna().sum()"
   ]
  },
  {
   "cell_type": "code",
   "execution_count": 8,
   "metadata": {},
   "outputs": [
    {
     "name": "stdout",
     "output_type": "stream",
     "text": [
      "Empty DataFrame\n",
      "Columns: [state, businesses, employees, payroll, income]\n",
      "Index: []\n"
     ]
    }
   ],
   "source": [
    "#correcting nan in Payroll by substitute them with the payrrol mean by estado.\n",
    "\n",
    "\n",
    "# Compute the average by category\n",
    "payroll_average = data.groupby('state')['payroll'].transform('mean')\n",
    "employees_average = data.groupby('state')['employees'].transform('mean')\n",
    "\n",
    "\n",
    "# Replace NaN values with the corresponding category average\n",
    "payroll2 = data['payroll'].fillna(data['employees']*payroll_average/employees_average)\n",
    "data['payroll']=payroll2\n",
    "\n",
    "# Display the modified dataframe\n",
    "print(data[mask])\n"
   ]
  },
  {
   "cell_type": "code",
   "execution_count": 9,
   "metadata": {},
   "outputs": [
    {
     "data": {
      "text/html": [
       "<div>\n",
       "<style scoped>\n",
       "    .dataframe tbody tr th:only-of-type {\n",
       "        vertical-align: middle;\n",
       "    }\n",
       "\n",
       "    .dataframe tbody tr th {\n",
       "        vertical-align: top;\n",
       "    }\n",
       "\n",
       "    .dataframe thead th {\n",
       "        text-align: right;\n",
       "    }\n",
       "</style>\n",
       "<table border=\"1\" class=\"dataframe\">\n",
       "  <thead>\n",
       "    <tr style=\"text-align: right;\">\n",
       "      <th></th>\n",
       "      <th>state</th>\n",
       "      <th>businesses</th>\n",
       "      <th>employees</th>\n",
       "      <th>payroll</th>\n",
       "      <th>income</th>\n",
       "    </tr>\n",
       "  </thead>\n",
       "  <tbody>\n",
       "  </tbody>\n",
       "</table>\n",
       "</div>"
      ],
      "text/plain": [
       "Empty DataFrame\n",
       "Columns: [state, businesses, employees, payroll, income]\n",
       "Index: []"
      ]
     },
     "execution_count": 9,
     "metadata": {},
     "output_type": "execute_result"
    }
   ],
   "source": [
    "# check records with zeros\n",
    "data[data['employees']==0]\n",
    "data[data['businesses']==0]"
   ]
  },
  {
   "cell_type": "code",
   "execution_count": 10,
   "metadata": {},
   "outputs": [
    {
     "data": {
      "text/html": [
       "<div>\n",
       "<style scoped>\n",
       "    .dataframe tbody tr th:only-of-type {\n",
       "        vertical-align: middle;\n",
       "    }\n",
       "\n",
       "    .dataframe tbody tr th {\n",
       "        vertical-align: top;\n",
       "    }\n",
       "\n",
       "    .dataframe thead th {\n",
       "        text-align: right;\n",
       "    }\n",
       "</style>\n",
       "<table border=\"1\" class=\"dataframe\">\n",
       "  <thead>\n",
       "    <tr style=\"text-align: right;\">\n",
       "      <th></th>\n",
       "      <th>state</th>\n",
       "      <th>businesses</th>\n",
       "      <th>employees</th>\n",
       "      <th>payroll</th>\n",
       "      <th>income</th>\n",
       "    </tr>\n",
       "  </thead>\n",
       "  <tbody>\n",
       "    <tr>\n",
       "      <th>0</th>\n",
       "      <td>Nuevo Leon</td>\n",
       "      <td>14061</td>\n",
       "      <td>248258</td>\n",
       "      <td>8289.068764</td>\n",
       "      <td>338631.196600</td>\n",
       "    </tr>\n",
       "    <tr>\n",
       "      <th>1</th>\n",
       "      <td>Oaxaca</td>\n",
       "      <td>905</td>\n",
       "      <td>3905</td>\n",
       "      <td>15.752988</td>\n",
       "      <td>662.353238</td>\n",
       "    </tr>\n",
       "    <tr>\n",
       "      <th>2</th>\n",
       "      <td>Zacatecas</td>\n",
       "      <td>349</td>\n",
       "      <td>2988</td>\n",
       "      <td>43.555710</td>\n",
       "      <td>1758.804061</td>\n",
       "    </tr>\n",
       "    <tr>\n",
       "      <th>3</th>\n",
       "      <td>Mexico</td>\n",
       "      <td>16237</td>\n",
       "      <td>113409</td>\n",
       "      <td>2218.805161</td>\n",
       "      <td>136972.510900</td>\n",
       "    </tr>\n",
       "    <tr>\n",
       "      <th>4</th>\n",
       "      <td>Tlaxcala</td>\n",
       "      <td>443</td>\n",
       "      <td>1979</td>\n",
       "      <td>25.286211</td>\n",
       "      <td>463.621475</td>\n",
       "    </tr>\n",
       "  </tbody>\n",
       "</table>\n",
       "</div>"
      ],
      "text/plain": [
       "        state  businesses  employees      payroll         income\n",
       "0  Nuevo Leon       14061     248258  8289.068764  338631.196600\n",
       "1      Oaxaca         905       3905    15.752988     662.353238\n",
       "2   Zacatecas         349       2988    43.555710    1758.804061\n",
       "3      Mexico       16237     113409  2218.805161  136972.510900\n",
       "4    Tlaxcala         443       1979    25.286211     463.621475"
      ]
     },
     "execution_count": 10,
     "metadata": {},
     "output_type": "execute_result"
    }
   ],
   "source": [
    "# Replace cero values with other value\n",
    "data.loc[data['businesses'] == 0, 'businesses'] = 1.0 #in this case the better value to filna is 1 business at least\n",
    "data.head()\n"
   ]
  },
  {
   "cell_type": "code",
   "execution_count": 11,
   "metadata": {},
   "outputs": [
    {
     "data": {
      "text/html": [
       "<div>\n",
       "<style scoped>\n",
       "    .dataframe tbody tr th:only-of-type {\n",
       "        vertical-align: middle;\n",
       "    }\n",
       "\n",
       "    .dataframe tbody tr th {\n",
       "        vertical-align: top;\n",
       "    }\n",
       "\n",
       "    .dataframe thead th {\n",
       "        text-align: right;\n",
       "    }\n",
       "</style>\n",
       "<table border=\"1\" class=\"dataframe\">\n",
       "  <thead>\n",
       "    <tr style=\"text-align: right;\">\n",
       "      <th></th>\n",
       "      <th>state</th>\n",
       "      <th>income_employee_day</th>\n",
       "      <th>employees_business</th>\n",
       "      <th>salary_employee_day</th>\n",
       "    </tr>\n",
       "  </thead>\n",
       "  <tbody>\n",
       "    <tr>\n",
       "      <th>0</th>\n",
       "      <td>Nuevo Leon</td>\n",
       "      <td>3788.970397</td>\n",
       "      <td>18</td>\n",
       "      <td>92.747025</td>\n",
       "    </tr>\n",
       "    <tr>\n",
       "      <th>1</th>\n",
       "      <td>Oaxaca</td>\n",
       "      <td>471.157517</td>\n",
       "      <td>4</td>\n",
       "      <td>11.205710</td>\n",
       "    </tr>\n",
       "    <tr>\n",
       "      <th>2</th>\n",
       "      <td>Zacatecas</td>\n",
       "      <td>1635.062529</td>\n",
       "      <td>9</td>\n",
       "      <td>40.491327</td>\n",
       "    </tr>\n",
       "    <tr>\n",
       "      <th>3</th>\n",
       "      <td>Mexico</td>\n",
       "      <td>3354.929476</td>\n",
       "      <td>7</td>\n",
       "      <td>54.346195</td>\n",
       "    </tr>\n",
       "    <tr>\n",
       "      <th>4</th>\n",
       "      <td>Tlaxcala</td>\n",
       "      <td>650.751607</td>\n",
       "      <td>4</td>\n",
       "      <td>35.492408</td>\n",
       "    </tr>\n",
       "  </tbody>\n",
       "</table>\n",
       "</div>"
      ],
      "text/plain": [
       "        state  income_employee_day  employees_business  salary_employee_day\n",
       "0  Nuevo Leon          3788.970397                  18            92.747025\n",
       "1      Oaxaca           471.157517                   4            11.205710\n",
       "2   Zacatecas          1635.062529                   9            40.491327\n",
       "3      Mexico          3354.929476                   7            54.346195\n",
       "4    Tlaxcala           650.751607                   4            35.492408"
      ]
     },
     "execution_count": 11,
     "metadata": {},
     "output_type": "execute_result"
    }
   ],
   "source": [
    "# create new fields \n",
    "\n",
    "data['income_employee_day']=data['income']*1000000/data['employees']/360\n",
    "data['employees_business'] = (data['employees']/data['businesses']+0.5).astype(int)\n",
    "data['salary_employee_day']=data['payroll']*1000000/data['employees']/360\n",
    "\n",
    "#droping innecesary fields\n",
    "data=data.drop(['employees', 'income','businesses','payroll'],axis=1)\n",
    "\n",
    "# correcting data types and renaming the fields to be more accurate\n",
    "data['state']=data['state'].astype('category')\n",
    "\n",
    "data.head()"
   ]
  },
  {
   "cell_type": "markdown",
   "metadata": {},
   "source": [
    "## EDA Engineering Data Analisys"
   ]
  },
  {
   "cell_type": "markdown",
   "metadata": {},
   "source": [
    "### EDA with pandas profiling, and saving report in ./reports"
   ]
  },
  {
   "cell_type": "code",
   "execution_count": null,
   "metadata": {},
   "outputs": [
    {
     "data": {
      "application/vnd.jupyter.widget-view+json": {
       "model_id": "3c64710d957f4c9abfc7eaa1a48a6db8",
       "version_major": 2,
       "version_minor": 0
      },
      "text/plain": [
       "Summarize dataset:   0%|          | 0/5 [00:00<?, ?it/s]"
      ]
     },
     "metadata": {},
     "output_type": "display_data"
    }
   ],
   "source": [
    "#running the profiler to review data, saving the report on ./reports directory\n",
    "\n",
    "ProfileReport = yp.ProfileReport(data, title=str(cfg.file_names.data_profiling_report), explorative=True)\n",
    "ProfileReport.to_file(os.path.join('../reports', cfg.file_names.data_profiling_report), \n",
    "                      #encoding=cfg.general_ml.encoding\n",
    "                     )\n",
    "\n",
    "ProfileReport"
   ]
  },
  {
   "cell_type": "markdown",
   "metadata": {},
   "source": [
    "### EDA at detail with pandas, matplotlib and seaborn"
   ]
  },
  {
   "cell_type": "code",
   "execution_count": null,
   "metadata": {},
   "outputs": [],
   "source": [
    "# To be developed"
   ]
  },
  {
   "cell_type": "markdown",
   "metadata": {},
   "source": [
    "## ML profiling with Pycaret"
   ]
  },
  {
   "cell_type": "code",
   "execution_count": null,
   "metadata": {},
   "outputs": [],
   "source": [
    "#Choose the Ml model to be applied, among: regression, Classifications, time_series, Clustering, NLP\n",
    "from pycaret.regression import *\n",
    "from pycaret import version_\n",
    "version_"
   ]
  },
  {
   "cell_type": "code",
   "execution_count": null,
   "metadata": {},
   "outputs": [],
   "source": [
    "#to show docstring of setup() function\n",
    "?setup"
   ]
  },
  {
   "cell_type": "markdown",
   "metadata": {},
   "source": [
    "### Model to find\n",
    "Setup the model with characteristics needed to get the key model.\n",
    "The setup() function initializes the experiment in PyCaret and creates the transformation pipeline based on all the parameters passed in the function."
   ]
  },
  {
   "cell_type": "code",
   "execution_count": null,
   "metadata": {},
   "outputs": [],
   "source": [
    "model_to_find =   setup(data = data, #see above \n",
    "                        #log_experiment = True,\n",
    "                        #experiment_name = f'{cfg.general_ml.client}-{cfg.general_ml.project}-{cfg.general_ml.experiment}',\n",
    "                        #target = cfg.data_fields.label, # get the target label from cfg\n",
    "                        target='salary_employee_day',\n",
    "                        #train_size=0.6, #default = 0.7\n",
    "                        session_id=cfg.general_ml.seed, # get the seed from config\n",
    "                        #train_size = 1.0-float(cfg.data_pipeline.data_transform_params.percent_valid), #get %valid from cfg\n",
    "                        transformation=True, \n",
    "                        #transformation_method='quantile',\n",
    "                        #fix_imbalance = True, #8:2\n",
    "                        normalize=True,\n",
    "                        normalize_method=\"minmax\",\n",
    "                        #polynomial_features=True,\n",
    "                        #polynomial_degree = 5,\n",
    "                        max_encoding_ohe =32, #default=25,\n",
    "                        #remove_multicollinearity=True,\n",
    "                        #categorical_features=['state'],\n",
    "                        #remove_outliers=True,\n",
    "                        #outliers_threshold=0.075, #default=0.05\n",
    "                        )"
   ]
  },
  {
   "cell_type": "code",
   "execution_count": null,
   "metadata": {},
   "outputs": [],
   "source": [
    "#with this model_to_find, let's see how was transformed the dataset \n",
    "get_config('dataset_transformed')"
   ]
  },
  {
   "cell_type": "markdown",
   "metadata": {},
   "source": [
    "### Getting the best model \n",
    "From all the possibles using compare_models() function.\n",
    "This function trains and evaluates the performance of all estimators available in the model library using cross-validation. The output of this function is a scoring grid with average cross-validated scores. Metrics evaluated during CV can be accessed using the get_metrics function. Custom metrics can be added or removed using add_metric and remove_metric function."
   ]
  },
  {
   "cell_type": "code",
   "execution_count": null,
   "metadata": {},
   "outputs": [],
   "source": [
    "best_model=compare_models( sort='R2', #from which metric you will choose the best model\n",
    "                          #include=['list', 'of', 'models'], #list of models to be included, comment if all\n",
    "                          #n_select= 3, #if you want you can get the Top N models instead of just one model. \n",
    "                          cross_validation=True, #If you don't want to evaluate models using cross-validation\n",
    "                          )"
   ]
  },
  {
   "cell_type": "code",
   "execution_count": null,
   "metadata": {},
   "outputs": [],
   "source": [
    "best_model.get_params()\n",
    "\n"
   ]
  },
  {
   "cell_type": "markdown",
   "metadata": {},
   "source": [
    "### Selected Model\n",
    "Selected_model is the best model choosen, you may want to use another kfolds param to get this model.\n",
    "\n",
    "This function trains and evaluates the performance of a given estimator using cross-validation. The output of this function is a scoring grid with CV scores by fold. Metrics evaluated during CV can be accessed using the get_metrics function. Custom metrics can be added or removed using add_metric and remove_metric function. All the available models can be accessed using the models function."
   ]
  },
  {
   "cell_type": "code",
   "execution_count": null,
   "metadata": {},
   "outputs": [],
   "source": [
    "models() #to show available models in this library"
   ]
  },
  {
   "cell_type": "code",
   "execution_count": null,
   "metadata": {},
   "outputs": [],
   "source": [
    "# And create the selected model in ten kfolds\n",
    "selected_model = create_model(best_model,\n",
    "                              #'gbr', \n",
    "                              fold=5, #default = None. Controls cross-validation. Integer:'n_splits'\n",
    "                              cross_validation=True,\n",
    "                              return_train_score=False, #To see the performance metrics on the training set by fold \n",
    "                              )"
   ]
  },
  {
   "cell_type": "code",
   "execution_count": null,
   "metadata": {},
   "outputs": [],
   "source": [
    "print(selected_model, selected_model.get_params())"
   ]
  },
  {
   "cell_type": "code",
   "execution_count": null,
   "metadata": {},
   "outputs": [],
   "source": [
    "#train models in a loop\n",
    "selected_models  = [create_model('huber', alpha = i) for i in [0.01, 0.001, 0.0001, 0.00001]]\n",
    "#you will see a table for each option:"
   ]
  },
  {
   "cell_type": "code",
   "execution_count": null,
   "metadata": {},
   "outputs": [],
   "source": [
    "# You can also write your own class with fit and predict function. \n",
    "# PyCaret will be compatible with that. Here is a simple example\n",
    "\n",
    "\"\"\"\n",
    "# load dataset \n",
    "from pycaret.datasets #import get_data \n",
    "insurance= get_data('insurance') \n",
    "\n",
    "# init setup\n",
    "from pycaret.regression import * \n",
    "reg1 = setup(data = insurance, target = 'charges')\n",
    "\n",
    "# create custom estimator\n",
    "import numpy as np\n",
    "from sklearn.base import BaseEstimator\n",
    "class MyOwnModel(BaseEstimator):\n",
    "    \n",
    "    def __init__(self):\n",
    "        self.mean = 0\n",
    "        \n",
    "    def fit(self, X, y):\n",
    "        self.mean = y.mean()\n",
    "        return self\n",
    "    \n",
    "    def predict(self, X):\n",
    "        return np.array(X.shape[0]*[self.mean])\n",
    "        \n",
    "# create an instance\n",
    "my_own_model = MyOwnModel()\n",
    "\n",
    "# train model\n",
    "my_model_trained = create_model(my_own_model)\n",
    "\"\"\""
   ]
  },
  {
   "cell_type": "markdown",
   "metadata": {},
   "source": [
    "### Tunned Model\n",
    "This function tunes the hyperparameters of the model. The output of this function is a scoring grid with cross-validated scores by fold. The best model is selected based on the metric defined in optimize parameter. Metrics evaluated during cross-validation can be accessed using the get_metrics function. Custom metrics can be added or removed using add_metric and remove_metric function.\n",
    "\n",
    "The tuning grid for hyperparameters is already defined by PyCaret for all the models in the library. However, if you wish you can define your own search space by passing a custom grid using custom_grid parameter. \n"
   ]
  },
  {
   "cell_type": "code",
   "execution_count": null,
   "metadata": {},
   "outputs": [],
   "source": [
    "# Now lets find the best hyperparameters for the selected model \n",
    "\n",
    "tuned_model = tune_model(selected_model, \n",
    "                         optimize = 'r2', #which metric to optimize\n",
    "                         n_iter=10,\n",
    "                         \n",
    "                         choose_better=True, #will always return a better performing model meaning that if \n",
    "                                             #hyperparameter tuning doesn't improve the performance, \n",
    "                                             #it will return the input model.\n",
    "                         \n",
    "                         custom_grid={ #comment if need full search:\n",
    "                                         'alpha': [0.01, 0.001, 0.0001], \n",
    "                                         'epsilon': [.95, 1.05, 1.25, 1.35],\n",
    "                                      }\n",
    "                        )\n",
    "\n",
    "#NOTE: choose_better doesn't affect the scoring grid that is displayed on the screen. \n",
    "#The scoring grid will always present the performance of the best model as selected by the tuner, \n",
    "#regardless of the fact that output performance < input performance.\n",
    "\n"
   ]
  },
  {
   "cell_type": "code",
   "execution_count": null,
   "metadata": {},
   "outputs": [],
   "source": [
    "#PyCaret integrates seamlessly with many different libraries for hyperparameter tuning. \n",
    "#This gives you access to many different types of search algorithms including random, bayesian, optuna, TPE, \n",
    "#and a few others. All of this just by changing a parameter. By default, PyCaret using RandomGridSearch \n",
    "#from the sklearn and you can change that by using search_library and search_algorithm parameter in\n",
    "#the tune_model function\n",
    "\"\"\"\n",
    "# load dataset\n",
    "from pycaret.datasets import get_data \n",
    "boston = get_data('boston') \n",
    "\n",
    "# init setup\n",
    "from pycaret.regression import * \n",
    "reg1 = setup(boston, target = 'medv')\n",
    "\n",
    "# train model\n",
    "dt = create_model('dt')\n",
    "\n",
    "# tune model sklearn\n",
    "tune_model(dt)\n",
    "\n",
    "# tune model optuna\n",
    "tune_model(dt, search_library = 'optuna')\n",
    "\n",
    "# tune model scikit-optimize\n",
    "tune_model(dt, search_library = 'scikit-optimize')\n",
    "\n",
    "# tune model tune-sklearn\n",
    "tune_model(dt, search_library = 'tune-sklearn', search_algorithm = 'hyperopt')\n",
    "\"\"\""
   ]
  },
  {
   "cell_type": "markdown",
   "metadata": {},
   "source": [
    "### Essemble models\n",
    "This function ensembles a given estimator. The output of this function is a scoring grid with CV scores by fold. Metrics evaluated during CV can be accessed using the get_metrics function. Custom metrics can be added or removed using add_metric and remove_metric function.+\n",
    "\n",
    "![image.png](attachment:image.png)\n",
    "\n",
    "\n"
   ]
  },
  {
   "cell_type": "markdown",
   "metadata": {},
   "source": [
    "** Bagging: \n",
    "Also known as Bootstrap aggregating, is a machine learning ensemble meta-algorithm designed to improve the stability and accuracy of machine learning algorithms used in statistical classification and regression. It also reduces variance and helps to avoid overfitting. Although it is usually applied to decision tree methods, it can be used with any type of method. Bagging is a special case of the model averaging approach."
   ]
  },
  {
   "cell_type": "code",
   "execution_count": null,
   "metadata": {},
   "outputs": [],
   "source": [
    "bagging_model = ensemble_model(tuned_model, \n",
    "                               n_estimators=100, #By default, PyCaret uses 10 estimators\n",
    "                               choose_better=True, #When set to True it will always return a better performing model \n",
    "                                                   #meaning that if hyperparameter tuning doesn't improve the performance, \n",
    "                                                   #it will return the input model\n",
    "                               method = 'Bagging')"
   ]
  },
  {
   "cell_type": "code",
   "execution_count": null,
   "metadata": {},
   "outputs": [],
   "source": [
    "print(bagging_model)"
   ]
  },
  {
   "cell_type": "markdown",
   "metadata": {},
   "source": [
    "\n",
    "\n",
    "** Boosting: \n",
    "Is an ensemble meta-algorithm for primarily reducing bias and variance in supervised learning. Boosting is in the family of machine learning algorithms that convert weak learners to strong ones. A weak learner is defined to be a classifier that is only slightly correlated with the true classification (it can label examples better than random guessing). In contrast, a strong learner is a classifier that is arbitrarily well-correlated with the true classification."
   ]
  },
  {
   "cell_type": "code",
   "execution_count": null,
   "metadata": {},
   "outputs": [],
   "source": [
    "boosted_model = ensemble_model(tuned_model, \n",
    "                               n_estimators=100, #By default, PyCaret uses 10 estimators\n",
    "                               choose_better=True, #When set to True it will always return a better performing model \n",
    "                                                   #meaning that if hyperparameter tuning doesn't improve the performance, \n",
    "                                                   #it will return the input model\n",
    "                               method = 'Boosting')"
   ]
  },
  {
   "cell_type": "code",
   "execution_count": null,
   "metadata": {},
   "outputs": [],
   "source": [
    "print(boosted_model)"
   ]
  },
  {
   "cell_type": "markdown",
   "metadata": {},
   "source": [
    "### Blend model\n",
    "This function trains a Soft Voting / Majority Rule classifier for select models passed in the estimator_list parameter. The output of this function is a scoring grid with CV scores by fold. Metrics evaluated during CV can be accessed using the get_metrics function. Custom metrics can be added or removed using add_metric and remove_metric function"
   ]
  },
  {
   "cell_type": "code",
   "execution_count": null,
   "metadata": {},
   "outputs": [],
   "source": [
    "top_best_models = ['huber','br','lr','gbr']\n",
    "top_models=[]\n",
    "for i,model in enumerate(top_best_models):\n",
    "    print(f'{i+1} of {len(top_best_models)}: model: {model}')\n",
    "    top_models.append(create_model(model))\n",
    "\n",
    "print(f'Blend for {i+1} Models:')\n",
    "blend_model = blend_models(top_models,\n",
    "                          fold = 5, #evaluation is done using fold cross-validation.\n",
    "                          weights=[0.25, 0.25, 0.40, 0.1], #weights to be given to each input model.\n",
    "                          )\n",
    "\n",
    "print(blend_model)"
   ]
  },
  {
   "cell_type": "code",
   "execution_count": null,
   "metadata": {},
   "outputs": [],
   "source": []
  },
  {
   "cell_type": "code",
   "execution_count": null,
   "metadata": {},
   "outputs": [],
   "source": [
    "# or a shorcut using compare_models() function\n",
    "blend_model_shortcut = blend_models(compare_models(n_select=4)\n",
    "                                   weights=[0.25, 0.25, 0.40, 0.1], #weights to be given to each input model.\n",
    "                                   )\n",
    "\n",
    "print(blend_model_shortcut)"
   ]
  },
  {
   "cell_type": "markdown",
   "metadata": {},
   "source": [
    "### Stack model\n",
    "This function trains a meta-model over select estimators passed in the estimator_list parameter. The output of this function is a scoring grid with CV scores by fold. Metrics evaluated during CV can be accessed using the get_metrics function. Custom metrics can be added or removed using add_metric and remove_metric function."
   ]
  },
  {
   "cell_type": "code",
   "execution_count": null,
   "metadata": {},
   "outputs": [],
   "source": [
    "top_best_models = ['huber','br','lr','gbr']\n",
    "top_models=[]\n",
    "for i,model in enumerate(top_best_models):\n",
    "    print(f'{i+1} of {len(top_best_models)}: model: {model}')\n",
    "    top_models.append(create_model(model))\n",
    "\n",
    "print(f'Stack for {i+1} Models:')\n",
    "stack_model = stack_models(top_models,\n",
    "                          fold = 5, #evaluation is done using fold cross-validation.\n",
    "                          )\n",
    "\n",
    "print(stack_model)"
   ]
  },
  {
   "cell_type": "code",
   "execution_count": null,
   "metadata": {},
   "outputs": [],
   "source": [
    "# or a shorcut using compare_models() function\n",
    "stack_model_shortcut =stack_models(compare_models(n_select=4)\n",
    "                                   )\n",
    "\n",
    "print(blend_model_shortcut)"
   ]
  },
  {
   "cell_type": "markdown",
   "metadata": {},
   "source": [
    "### Model Evaluation\n"
   ]
  },
  {
   "cell_type": "markdown",
   "metadata": {},
   "source": [
    "** Plot the model (simple function)\n",
    "This function analyzes the performance of a trained model on the hold-out set. It may require re-training the model in certain cases"
   ]
  },
  {
   "cell_type": "code",
   "execution_count": null,
   "metadata": {},
   "outputs": [],
   "source": [
    "plot_model(tuned_model, \n",
    "           plot='error',\n",
    "           #save=True,\n",
    "          )"
   ]
  },
  {
   "cell_type": "code",
   "execution_count": null,
   "metadata": {},
   "outputs": [],
   "source": [
    "#https://pycaret.gitbook.io/docs/get-started/functions/analyze#plot_model\n",
    "    "
   ]
  },
  {
   "cell_type": "markdown",
   "metadata": {},
   "source": [
    "** Evaluate Model with evaluate_model()\n",
    "\n",
    "The evaluate_model() displays a user interface for analyzing the performance of a trained model. \n",
    "It calls the plot_model().\n"
   ]
  },
  {
   "cell_type": "code",
   "execution_count": null,
   "metadata": {
    "scrolled": true
   },
   "outputs": [],
   "source": [
    "# evaluate the model\n",
    "\n",
    "evaluate_model(tuned_model)\n",
    "\n"
   ]
  },
  {
   "cell_type": "code",
   "execution_count": null,
   "metadata": {},
   "outputs": [],
   "source": [
    "# Only for classification\n",
    "#interpret_model(tuned_model)"
   ]
  },
  {
   "cell_type": "markdown",
   "metadata": {},
   "source": [
    "### interpret model"
   ]
  },
  {
   "cell_type": "markdown",
   "metadata": {},
   "source": [
    "** interpret_model\n",
    "This function analyzes the predictions generated from a trained model. Most plots in this function are implemented based on the SHAP (Shapley Additive exPlanations). "
   ]
  },
  {
   "cell_type": "code",
   "execution_count": null,
   "metadata": {},
   "outputs": [],
   "source": [
    "#interpret_model(tuned_model) # this functions is only for trees"
   ]
  },
  {
   "cell_type": "markdown",
   "metadata": {},
   "source": [
    "** dashboard\n",
    "The dashboard function generates the interactive dashboard for a trained model. The dashboard is implemented using ExplainerDashboard "
   ]
  },
  {
   "cell_type": "code",
   "execution_count": null,
   "metadata": {},
   "outputs": [],
   "source": [
    "dashboard(tuned_model)"
   ]
  },
  {
   "cell_type": "markdown",
   "metadata": {},
   "source": [
    "### deep check\n",
    "this function runs a full suite check over a trained model using the deepcheck library"
   ]
  },
  {
   "cell_type": "code",
   "execution_count": null,
   "metadata": {},
   "outputs": [],
   "source": [
    "deep_check(tuned_model)"
   ]
  },
  {
   "cell_type": "markdown",
   "metadata": {},
   "source": [
    "### eda - somed day will work!"
   ]
  },
  {
   "cell_type": "code",
   "execution_count": 133,
   "metadata": {},
   "outputs": [],
   "source": [
    "#eda(display_format = 'svg')"
   ]
  },
  {
   "cell_type": "markdown",
   "metadata": {},
   "source": [
    "### Predict\n",
    "This function generates the label using a trained model.  When data is None, it predicts label and score on the holdout set. "
   ]
  },
  {
   "cell_type": "code",
   "execution_count": 134,
   "metadata": {},
   "outputs": [],
   "source": [
    "predict_model(tuned_model)"
   ]
  },
  {
   "cell_type": "code",
   "execution_count": null,
   "metadata": {},
   "outputs": [],
   "source": []
  },
  {
   "cell_type": "code",
   "execution_count": null,
   "metadata": {},
   "outputs": [],
   "source": []
  },
  {
   "cell_type": "code",
   "execution_count": null,
   "metadata": {},
   "outputs": [],
   "source": []
  },
  {
   "cell_type": "code",
   "execution_count": 769,
   "metadata": {},
   "outputs": [
    {
     "data": {
      "text/html": [
       "<style>#sk-container-id-8 {color: black;background-color: white;}#sk-container-id-8 pre{padding: 0;}#sk-container-id-8 div.sk-toggleable {background-color: white;}#sk-container-id-8 label.sk-toggleable__label {cursor: pointer;display: block;width: 100%;margin-bottom: 0;padding: 0.3em;box-sizing: border-box;text-align: center;}#sk-container-id-8 label.sk-toggleable__label-arrow:before {content: \"▸\";float: left;margin-right: 0.25em;color: #696969;}#sk-container-id-8 label.sk-toggleable__label-arrow:hover:before {color: black;}#sk-container-id-8 div.sk-estimator:hover label.sk-toggleable__label-arrow:before {color: black;}#sk-container-id-8 div.sk-toggleable__content {max-height: 0;max-width: 0;overflow: hidden;text-align: left;background-color: #f0f8ff;}#sk-container-id-8 div.sk-toggleable__content pre {margin: 0.2em;color: black;border-radius: 0.25em;background-color: #f0f8ff;}#sk-container-id-8 input.sk-toggleable__control:checked~div.sk-toggleable__content {max-height: 200px;max-width: 100%;overflow: auto;}#sk-container-id-8 input.sk-toggleable__control:checked~label.sk-toggleable__label-arrow:before {content: \"▾\";}#sk-container-id-8 div.sk-estimator input.sk-toggleable__control:checked~label.sk-toggleable__label {background-color: #d4ebff;}#sk-container-id-8 div.sk-label input.sk-toggleable__control:checked~label.sk-toggleable__label {background-color: #d4ebff;}#sk-container-id-8 input.sk-hidden--visually {border: 0;clip: rect(1px 1px 1px 1px);clip: rect(1px, 1px, 1px, 1px);height: 1px;margin: -1px;overflow: hidden;padding: 0;position: absolute;width: 1px;}#sk-container-id-8 div.sk-estimator {font-family: monospace;background-color: #f0f8ff;border: 1px dotted black;border-radius: 0.25em;box-sizing: border-box;margin-bottom: 0.5em;}#sk-container-id-8 div.sk-estimator:hover {background-color: #d4ebff;}#sk-container-id-8 div.sk-parallel-item::after {content: \"\";width: 100%;border-bottom: 1px solid gray;flex-grow: 1;}#sk-container-id-8 div.sk-label:hover label.sk-toggleable__label {background-color: #d4ebff;}#sk-container-id-8 div.sk-serial::before {content: \"\";position: absolute;border-left: 1px solid gray;box-sizing: border-box;top: 0;bottom: 0;left: 50%;z-index: 0;}#sk-container-id-8 div.sk-serial {display: flex;flex-direction: column;align-items: center;background-color: white;padding-right: 0.2em;padding-left: 0.2em;position: relative;}#sk-container-id-8 div.sk-item {position: relative;z-index: 1;}#sk-container-id-8 div.sk-parallel {display: flex;align-items: stretch;justify-content: center;background-color: white;position: relative;}#sk-container-id-8 div.sk-item::before, #sk-container-id-8 div.sk-parallel-item::before {content: \"\";position: absolute;border-left: 1px solid gray;box-sizing: border-box;top: 0;bottom: 0;left: 50%;z-index: -1;}#sk-container-id-8 div.sk-parallel-item {display: flex;flex-direction: column;z-index: 1;position: relative;background-color: white;}#sk-container-id-8 div.sk-parallel-item:first-child::after {align-self: flex-end;width: 50%;}#sk-container-id-8 div.sk-parallel-item:last-child::after {align-self: flex-start;width: 50%;}#sk-container-id-8 div.sk-parallel-item:only-child::after {width: 0;}#sk-container-id-8 div.sk-dashed-wrapped {border: 1px dashed gray;margin: 0 0.4em 0.5em 0.4em;box-sizing: border-box;padding-bottom: 0.4em;background-color: white;}#sk-container-id-8 div.sk-label label {font-family: monospace;font-weight: bold;display: inline-block;line-height: 1.2em;}#sk-container-id-8 div.sk-label-container {text-align: center;}#sk-container-id-8 div.sk-container {/* jupyter's `normalize.less` sets `[hidden] { display: none; }` but bootstrap.min.css set `[hidden] { display: none !important; }` so we also need the `!important` here to be able to override the default hidden behavior on the sphinx rendered scikit-learn.org. See: https://github.com/scikit-learn/scikit-learn/issues/21755 */display: inline-block !important;position: relative;}#sk-container-id-8 div.sk-text-repr-fallback {display: none;}</style><div id=\"sk-container-id-8\" class=\"sk-top-container\"><div class=\"sk-text-repr-fallback\"><pre>Pipeline(memory=FastMemory(location=/tmp/joblib),\n",
       "         steps=[(&#x27;numerical_imputer&#x27;,\n",
       "                 TransformerWrapper(include=[&#x27;income_employee_day&#x27;,\n",
       "                                             &#x27;employees_business&#x27;],\n",
       "                                    transformer=SimpleImputer())),\n",
       "                (&#x27;categorical_imputer&#x27;,\n",
       "                 TransformerWrapper(include=[&#x27;state&#x27;],\n",
       "                                    transformer=SimpleImputer(strategy=&#x27;most_frequent&#x27;))),\n",
       "                (&#x27;rest_encoding&#x27;,\n",
       "                 TransformerWrapper(include=[&#x27;state&#x27;],\n",
       "                                    tra...=TargetEncoder(cols=[&#x27;state&#x27;],\n",
       "                                                              handle_missing=&#x27;return_nan&#x27;))),\n",
       "                (&#x27;remove_outliers&#x27;,\n",
       "                 TransformerWrapper(transformer=RemoveOutliers(random_state=123))),\n",
       "                (&#x27;transformation&#x27;,\n",
       "                 TransformerWrapper(transformer=PowerTransformer(standardize=False))),\n",
       "                (&#x27;normalize&#x27;, TransformerWrapper(transformer=StandardScaler())),\n",
       "                (&#x27;actual_estimator&#x27;, LGBMRegressor(random_state=123))])</pre><b>In a Jupyter environment, please rerun this cell to show the HTML representation or trust the notebook. <br />On GitHub, the HTML representation is unable to render, please try loading this page with nbviewer.org.</b></div><div class=\"sk-container\" hidden><div class=\"sk-item sk-dashed-wrapped\"><div class=\"sk-label-container\"><div class=\"sk-label sk-toggleable\"><input class=\"sk-toggleable__control sk-hidden--visually\" id=\"sk-estimator-id-135\" type=\"checkbox\" ><label for=\"sk-estimator-id-135\" class=\"sk-toggleable__label sk-toggleable__label-arrow\">Pipeline</label><div class=\"sk-toggleable__content\"><pre>Pipeline(memory=FastMemory(location=/tmp/joblib),\n",
       "         steps=[(&#x27;numerical_imputer&#x27;,\n",
       "                 TransformerWrapper(include=[&#x27;income_employee_day&#x27;,\n",
       "                                             &#x27;employees_business&#x27;],\n",
       "                                    transformer=SimpleImputer())),\n",
       "                (&#x27;categorical_imputer&#x27;,\n",
       "                 TransformerWrapper(include=[&#x27;state&#x27;],\n",
       "                                    transformer=SimpleImputer(strategy=&#x27;most_frequent&#x27;))),\n",
       "                (&#x27;rest_encoding&#x27;,\n",
       "                 TransformerWrapper(include=[&#x27;state&#x27;],\n",
       "                                    tra...=TargetEncoder(cols=[&#x27;state&#x27;],\n",
       "                                                              handle_missing=&#x27;return_nan&#x27;))),\n",
       "                (&#x27;remove_outliers&#x27;,\n",
       "                 TransformerWrapper(transformer=RemoveOutliers(random_state=123))),\n",
       "                (&#x27;transformation&#x27;,\n",
       "                 TransformerWrapper(transformer=PowerTransformer(standardize=False))),\n",
       "                (&#x27;normalize&#x27;, TransformerWrapper(transformer=StandardScaler())),\n",
       "                (&#x27;actual_estimator&#x27;, LGBMRegressor(random_state=123))])</pre></div></div></div><div class=\"sk-serial\"><div class=\"sk-item sk-dashed-wrapped\"><div class=\"sk-label-container\"><div class=\"sk-label sk-toggleable\"><input class=\"sk-toggleable__control sk-hidden--visually\" id=\"sk-estimator-id-136\" type=\"checkbox\" ><label for=\"sk-estimator-id-136\" class=\"sk-toggleable__label sk-toggleable__label-arrow\">numerical_imputer: TransformerWrapper</label><div class=\"sk-toggleable__content\"><pre>TransformerWrapper(include=[&#x27;income_employee_day&#x27;, &#x27;employees_business&#x27;],\n",
       "                   transformer=SimpleImputer())</pre></div></div></div><div class=\"sk-parallel\"><div class=\"sk-parallel-item\"><div class=\"sk-item\"><div class=\"sk-label-container\"><div class=\"sk-label sk-toggleable\"><input class=\"sk-toggleable__control sk-hidden--visually\" id=\"sk-estimator-id-137\" type=\"checkbox\" ><label for=\"sk-estimator-id-137\" class=\"sk-toggleable__label sk-toggleable__label-arrow\">transformer: SimpleImputer</label><div class=\"sk-toggleable__content\"><pre>SimpleImputer()</pre></div></div></div><div class=\"sk-serial\"><div class=\"sk-item\"><div class=\"sk-estimator sk-toggleable\"><input class=\"sk-toggleable__control sk-hidden--visually\" id=\"sk-estimator-id-138\" type=\"checkbox\" ><label for=\"sk-estimator-id-138\" class=\"sk-toggleable__label sk-toggleable__label-arrow\">SimpleImputer</label><div class=\"sk-toggleable__content\"><pre>SimpleImputer()</pre></div></div></div></div></div></div></div></div><div class=\"sk-item sk-dashed-wrapped\"><div class=\"sk-label-container\"><div class=\"sk-label sk-toggleable\"><input class=\"sk-toggleable__control sk-hidden--visually\" id=\"sk-estimator-id-139\" type=\"checkbox\" ><label for=\"sk-estimator-id-139\" class=\"sk-toggleable__label sk-toggleable__label-arrow\">categorical_imputer: TransformerWrapper</label><div class=\"sk-toggleable__content\"><pre>TransformerWrapper(include=[&#x27;state&#x27;],\n",
       "                   transformer=SimpleImputer(strategy=&#x27;most_frequent&#x27;))</pre></div></div></div><div class=\"sk-parallel\"><div class=\"sk-parallel-item\"><div class=\"sk-item\"><div class=\"sk-label-container\"><div class=\"sk-label sk-toggleable\"><input class=\"sk-toggleable__control sk-hidden--visually\" id=\"sk-estimator-id-140\" type=\"checkbox\" ><label for=\"sk-estimator-id-140\" class=\"sk-toggleable__label sk-toggleable__label-arrow\">transformer: SimpleImputer</label><div class=\"sk-toggleable__content\"><pre>SimpleImputer(strategy=&#x27;most_frequent&#x27;)</pre></div></div></div><div class=\"sk-serial\"><div class=\"sk-item\"><div class=\"sk-estimator sk-toggleable\"><input class=\"sk-toggleable__control sk-hidden--visually\" id=\"sk-estimator-id-141\" type=\"checkbox\" ><label for=\"sk-estimator-id-141\" class=\"sk-toggleable__label sk-toggleable__label-arrow\">SimpleImputer</label><div class=\"sk-toggleable__content\"><pre>SimpleImputer(strategy=&#x27;most_frequent&#x27;)</pre></div></div></div></div></div></div></div></div><div class=\"sk-item sk-dashed-wrapped\"><div class=\"sk-label-container\"><div class=\"sk-label sk-toggleable\"><input class=\"sk-toggleable__control sk-hidden--visually\" id=\"sk-estimator-id-142\" type=\"checkbox\" ><label for=\"sk-estimator-id-142\" class=\"sk-toggleable__label sk-toggleable__label-arrow\">rest_encoding: TransformerWrapper</label><div class=\"sk-toggleable__content\"><pre>TransformerWrapper(include=[&#x27;state&#x27;],\n",
       "                   transformer=TargetEncoder(cols=[&#x27;state&#x27;],\n",
       "                                             handle_missing=&#x27;return_nan&#x27;))</pre></div></div></div><div class=\"sk-parallel\"><div class=\"sk-parallel-item\"><div class=\"sk-item\"><div class=\"sk-label-container\"><div class=\"sk-label sk-toggleable\"><input class=\"sk-toggleable__control sk-hidden--visually\" id=\"sk-estimator-id-143\" type=\"checkbox\" ><label for=\"sk-estimator-id-143\" class=\"sk-toggleable__label sk-toggleable__label-arrow\">transformer: TargetEncoder</label><div class=\"sk-toggleable__content\"><pre>TargetEncoder(cols=[&#x27;state&#x27;], handle_missing=&#x27;return_nan&#x27;)</pre></div></div></div><div class=\"sk-serial\"><div class=\"sk-item\"><div class=\"sk-estimator sk-toggleable\"><input class=\"sk-toggleable__control sk-hidden--visually\" id=\"sk-estimator-id-144\" type=\"checkbox\" ><label for=\"sk-estimator-id-144\" class=\"sk-toggleable__label sk-toggleable__label-arrow\">TargetEncoder</label><div class=\"sk-toggleable__content\"><pre>TargetEncoder(cols=[&#x27;state&#x27;], handle_missing=&#x27;return_nan&#x27;)</pre></div></div></div></div></div></div></div></div><div class=\"sk-item sk-dashed-wrapped\"><div class=\"sk-label-container\"><div class=\"sk-label sk-toggleable\"><input class=\"sk-toggleable__control sk-hidden--visually\" id=\"sk-estimator-id-145\" type=\"checkbox\" ><label for=\"sk-estimator-id-145\" class=\"sk-toggleable__label sk-toggleable__label-arrow\">remove_outliers: TransformerWrapper</label><div class=\"sk-toggleable__content\"><pre>TransformerWrapper(transformer=RemoveOutliers(random_state=123))</pre></div></div></div><div class=\"sk-parallel\"><div class=\"sk-parallel-item\"><div class=\"sk-item\"><div class=\"sk-label-container\"><div class=\"sk-label sk-toggleable\"><input class=\"sk-toggleable__control sk-hidden--visually\" id=\"sk-estimator-id-146\" type=\"checkbox\" ><label for=\"sk-estimator-id-146\" class=\"sk-toggleable__label sk-toggleable__label-arrow\">transformer: RemoveOutliers</label><div class=\"sk-toggleable__content\"><pre>RemoveOutliers(random_state=123)</pre></div></div></div><div class=\"sk-serial\"><div class=\"sk-item\"><div class=\"sk-estimator sk-toggleable\"><input class=\"sk-toggleable__control sk-hidden--visually\" id=\"sk-estimator-id-147\" type=\"checkbox\" ><label for=\"sk-estimator-id-147\" class=\"sk-toggleable__label sk-toggleable__label-arrow\">RemoveOutliers</label><div class=\"sk-toggleable__content\"><pre>RemoveOutliers(random_state=123)</pre></div></div></div></div></div></div></div></div><div class=\"sk-item sk-dashed-wrapped\"><div class=\"sk-label-container\"><div class=\"sk-label sk-toggleable\"><input class=\"sk-toggleable__control sk-hidden--visually\" id=\"sk-estimator-id-148\" type=\"checkbox\" ><label for=\"sk-estimator-id-148\" class=\"sk-toggleable__label sk-toggleable__label-arrow\">transformation: TransformerWrapper</label><div class=\"sk-toggleable__content\"><pre>TransformerWrapper(transformer=PowerTransformer(standardize=False))</pre></div></div></div><div class=\"sk-parallel\"><div class=\"sk-parallel-item\"><div class=\"sk-item\"><div class=\"sk-label-container\"><div class=\"sk-label sk-toggleable\"><input class=\"sk-toggleable__control sk-hidden--visually\" id=\"sk-estimator-id-149\" type=\"checkbox\" ><label for=\"sk-estimator-id-149\" class=\"sk-toggleable__label sk-toggleable__label-arrow\">transformer: PowerTransformer</label><div class=\"sk-toggleable__content\"><pre>PowerTransformer(standardize=False)</pre></div></div></div><div class=\"sk-serial\"><div class=\"sk-item\"><div class=\"sk-estimator sk-toggleable\"><input class=\"sk-toggleable__control sk-hidden--visually\" id=\"sk-estimator-id-150\" type=\"checkbox\" ><label for=\"sk-estimator-id-150\" class=\"sk-toggleable__label sk-toggleable__label-arrow\">PowerTransformer</label><div class=\"sk-toggleable__content\"><pre>PowerTransformer(standardize=False)</pre></div></div></div></div></div></div></div></div><div class=\"sk-item sk-dashed-wrapped\"><div class=\"sk-label-container\"><div class=\"sk-label sk-toggleable\"><input class=\"sk-toggleable__control sk-hidden--visually\" id=\"sk-estimator-id-151\" type=\"checkbox\" ><label for=\"sk-estimator-id-151\" class=\"sk-toggleable__label sk-toggleable__label-arrow\">normalize: TransformerWrapper</label><div class=\"sk-toggleable__content\"><pre>TransformerWrapper(transformer=StandardScaler())</pre></div></div></div><div class=\"sk-parallel\"><div class=\"sk-parallel-item\"><div class=\"sk-item\"><div class=\"sk-label-container\"><div class=\"sk-label sk-toggleable\"><input class=\"sk-toggleable__control sk-hidden--visually\" id=\"sk-estimator-id-152\" type=\"checkbox\" ><label for=\"sk-estimator-id-152\" class=\"sk-toggleable__label sk-toggleable__label-arrow\">transformer: StandardScaler</label><div class=\"sk-toggleable__content\"><pre>StandardScaler()</pre></div></div></div><div class=\"sk-serial\"><div class=\"sk-item\"><div class=\"sk-estimator sk-toggleable\"><input class=\"sk-toggleable__control sk-hidden--visually\" id=\"sk-estimator-id-153\" type=\"checkbox\" ><label for=\"sk-estimator-id-153\" class=\"sk-toggleable__label sk-toggleable__label-arrow\">StandardScaler</label><div class=\"sk-toggleable__content\"><pre>StandardScaler()</pre></div></div></div></div></div></div></div></div><div class=\"sk-item\"><div class=\"sk-estimator sk-toggleable\"><input class=\"sk-toggleable__control sk-hidden--visually\" id=\"sk-estimator-id-154\" type=\"checkbox\" ><label for=\"sk-estimator-id-154\" class=\"sk-toggleable__label sk-toggleable__label-arrow\">LGBMRegressor</label><div class=\"sk-toggleable__content\"><pre>LGBMRegressor(random_state=123)</pre></div></div></div></div></div></div></div>"
      ],
      "text/plain": [
       "Pipeline(memory=FastMemory(location=/tmp/joblib),\n",
       "         steps=[('numerical_imputer',\n",
       "                 TransformerWrapper(include=['income_employee_day',\n",
       "                                             'employees_business'],\n",
       "                                    transformer=SimpleImputer())),\n",
       "                ('categorical_imputer',\n",
       "                 TransformerWrapper(include=['state'],\n",
       "                                    transformer=SimpleImputer(strategy='most_frequent'))),\n",
       "                ('rest_encoding',\n",
       "                 TransformerWrapper(include=['state'],\n",
       "                                    tra...=TargetEncoder(cols=['state'],\n",
       "                                                              handle_missing='return_nan'))),\n",
       "                ('remove_outliers',\n",
       "                 TransformerWrapper(transformer=RemoveOutliers(random_state=123))),\n",
       "                ('transformation',\n",
       "                 TransformerWrapper(transformer=PowerTransformer(standardize=False))),\n",
       "                ('normalize', TransformerWrapper(transformer=StandardScaler())),\n",
       "                ('actual_estimator', LGBMRegressor(random_state=123))])"
      ]
     },
     "execution_count": 769,
     "metadata": {},
     "output_type": "execute_result"
    }
   ],
   "source": [
    "# Finally trains a the model on the entire dataset including the hold-out set.\n",
    "\n",
    "final_model = finalize_model(tuned_model)\n",
    "final_model\n",
    "\n",
    "\n"
   ]
  },
  {
   "cell_type": "code",
   "execution_count": 770,
   "metadata": {},
   "outputs": [
    {
     "data": {
      "text/html": [
       "<div>\n",
       "<style scoped>\n",
       "    .dataframe tbody tr th:only-of-type {\n",
       "        vertical-align: middle;\n",
       "    }\n",
       "\n",
       "    .dataframe tbody tr th {\n",
       "        vertical-align: top;\n",
       "    }\n",
       "\n",
       "    .dataframe thead th {\n",
       "        text-align: right;\n",
       "    }\n",
       "</style>\n",
       "<table border=\"1\" class=\"dataframe\">\n",
       "  <thead>\n",
       "    <tr style=\"text-align: right;\">\n",
       "      <th></th>\n",
       "      <th>state</th>\n",
       "      <th>income_employee_day</th>\n",
       "      <th>employees_business</th>\n",
       "    </tr>\n",
       "  </thead>\n",
       "  <tbody>\n",
       "    <tr>\n",
       "      <th>63</th>\n",
       "      <td>0.201075</td>\n",
       "      <td>1.425386</td>\n",
       "      <td>0.687166</td>\n",
       "    </tr>\n",
       "    <tr>\n",
       "      <th>34</th>\n",
       "      <td>0.979646</td>\n",
       "      <td>-0.655274</td>\n",
       "      <td>-0.201409</td>\n",
       "    </tr>\n",
       "    <tr>\n",
       "      <th>33</th>\n",
       "      <td>1.092863</td>\n",
       "      <td>-1.259237</td>\n",
       "      <td>-1.777388</td>\n",
       "    </tr>\n",
       "    <tr>\n",
       "      <th>583</th>\n",
       "      <td>0.182101</td>\n",
       "      <td>2.810290</td>\n",
       "      <td>0.687166</td>\n",
       "    </tr>\n",
       "    <tr>\n",
       "      <th>457</th>\n",
       "      <td>-0.484366</td>\n",
       "      <td>1.482044</td>\n",
       "      <td>1.475067</td>\n",
       "    </tr>\n",
       "    <tr>\n",
       "      <th>...</th>\n",
       "      <td>...</td>\n",
       "      <td>...</td>\n",
       "      <td>...</td>\n",
       "    </tr>\n",
       "    <tr>\n",
       "      <th>617</th>\n",
       "      <td>-1.340800</td>\n",
       "      <td>-1.861335</td>\n",
       "      <td>-1.777388</td>\n",
       "    </tr>\n",
       "    <tr>\n",
       "      <th>226</th>\n",
       "      <td>-0.086717</td>\n",
       "      <td>-1.053872</td>\n",
       "      <td>-0.201409</td>\n",
       "    </tr>\n",
       "    <tr>\n",
       "      <th>26</th>\n",
       "      <td>1.238457</td>\n",
       "      <td>-1.687961</td>\n",
       "      <td>-0.861279</td>\n",
       "    </tr>\n",
       "    <tr>\n",
       "      <th>348</th>\n",
       "      <td>1.092863</td>\n",
       "      <td>1.158161</td>\n",
       "      <td>-0.861279</td>\n",
       "    </tr>\n",
       "    <tr>\n",
       "      <th>404</th>\n",
       "      <td>-0.413006</td>\n",
       "      <td>0.766985</td>\n",
       "      <td>0.297048</td>\n",
       "    </tr>\n",
       "  </tbody>\n",
       "</table>\n",
       "<p>675 rows × 3 columns</p>\n",
       "</div>"
      ],
      "text/plain": [
       "        state  income_employee_day  employees_business\n",
       "63   0.201075             1.425386            0.687166\n",
       "34   0.979646            -0.655274           -0.201409\n",
       "33   1.092863            -1.259237           -1.777388\n",
       "583  0.182101             2.810290            0.687166\n",
       "457 -0.484366             1.482044            1.475067\n",
       "..        ...                  ...                 ...\n",
       "617 -1.340800            -1.861335           -1.777388\n",
       "226 -0.086717            -1.053872           -0.201409\n",
       "26   1.238457            -1.687961           -0.861279\n",
       "348  1.092863             1.158161           -0.861279\n",
       "404 -0.413006             0.766985            0.297048\n",
       "\n",
       "[675 rows x 3 columns]"
      ]
     },
     "execution_count": 770,
     "metadata": {},
     "output_type": "execute_result"
    }
   ],
   "source": [
    "get_config('X_transformed')"
   ]
  },
  {
   "cell_type": "code",
   "execution_count": 771,
   "metadata": {},
   "outputs": [],
   "source": [
    "# save the model\n",
    "\n",
    "#save_model(final_model, os.path.join(cfg.paths.models, cfg.file_names.ml_profiling_model))\n"
   ]
  }
 ],
 "metadata": {
  "colab": {
   "provenance": []
  },
  "kernelspec": {
   "display_name": "Python 3 (ipykernel)",
   "language": "python",
   "name": "python3"
  },
  "language_info": {
   "codemirror_mode": {
    "name": "ipython",
    "version": 3
   },
   "file_extension": ".py",
   "mimetype": "text/x-python",
   "name": "python",
   "nbconvert_exporter": "python",
   "pygments_lexer": "ipython3",
   "version": "3.10.6"
  }
 },
 "nbformat": 4,
 "nbformat_minor": 1
}
