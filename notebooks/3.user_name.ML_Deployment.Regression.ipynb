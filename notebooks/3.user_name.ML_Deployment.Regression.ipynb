{
 "cells": [
  {
   "cell_type": "markdown",
   "metadata": {},
   "source": [
    "# Notebook for ML deployment of di-f Correlation experiments"
   ]
  },
  {
   "cell_type": "markdown",
   "metadata": {},
   "source": [
    "## Experiment name: mxretailsalary1\n",
    "\n",
    "## Experiment General Data\n",
    "### Team roles:\n",
    "* **PipeMaster**: jag.pascoe\n",
    "* **BizEngineer**: \n",
    "* **DataEngineer**:\n",
    "* **MLEngineer**:\n",
    "* **SWEngineer**:\n",
    "\n",
    "### Description (Use case):\n",
    "Predict salary per day estimation to be obtained for working in retail sector in any state of Mexico.\n",
    "Supposing you are looking for being hired in a Retail Business in any of Mexico's state you want to. You want to predict which would be the base salary per day you might get as attendant of that retail business. This salary not include any commision, tax, or any other concept.\n",
    "\n",
    "### Type of experiment: Correlation\n",
    "### Independent Variables (inputs):\n",
    "1) State of Mexico where you are supposing to get hired (CAT). \n",
    "2) How many employees (including yourself) work in that particular business now (NUMBER)\n",
    "3) How much sales per day in average, you estimate you will provide to that business in pesos (FLOAT)\n",
    "\n",
    "### Dependent Variables (outputs):\n",
    "1) Estimated base salary per day (FLOAT)"
   ]
  },
  {
   "cell_type": "markdown",
   "metadata": {},
   "source": [
    "## Experiment preparation, imports and config.yaml"
   ]
  },
  {
   "cell_type": "code",
   "execution_count": 9,
   "metadata": {},
   "outputs": [
    {
     "name": "stdout",
     "output_type": "stream",
     "text": [
      "The autoreload extension is already loaded. To reload it, use:\n",
      "  %reload_ext autoreload\n",
      "{'general_ml': {'seed': 123, 'encoding': 'iso-8859-1', 'cloud': 'AWS'}, 'paths': {'project_dir': '/home/jagpascoe/democlient-sklearn/dif-s-mxretailsalary1', 'raw_data_dir': '${paths.project_dir}/data/raw', 'processed_data_dir': '${paths.project_dir}/data/processed', 'interim_data_dir': '${paths.project_dir}/data/interim', 'reports_dir': '${paths.project_dir}/reports', 'models_dir': '${paths.project_dir}/models', 'api_pycaret_dir': '${paths.project_dir}/API/API_Pycaret', 'api_fastapi_dir': '${paths.project_dir}/API/API_FastAPI', 'api_flask_dir': '${paths.project_dir}/API/API_Flask'}, 'file_names': {'raw_file': 'raw-data.csv', 'processed_data': 'processed_data.csv', 'processed_unseen_data': 'processed_unseen_data.csv', 'data_file': 'datafile.csv', 'train_features': 'train_features.csv', 'train_labels': 'train_labels.csv', 'validation_features': 'valid_features.csv', 'validation_labels': 'valid_labels.csv', 'test_features': 'test_features.csv', 'test_labels': 'test_labels.csv', 'data_profiling_report': 'data_profiling_report.html', 'ml_profiling_best': 'ml_profiling_best', 'api_ml_profiling': 'ml_profiling_best_API'}, 'cloud_paths': {'bucket_path': 'dif-b-democlient-sklearn', 'experiment_path': '${cloud_paths.bucket_path}/mxretailsalary1', 'mlflow_path': '${cloud_paths.experiment_path}/mlflow', 'reports_path': '${cloud_paths.experiment_path}/reports', 'rawdata_path': '${cloud_paths.experiment_path}/raw-data', 'dvc_path': '${cloud_paths.experiment_path}/dvc-store'}, 'data_fields': {'description': 'About what is the dataset', 'features': ['state', 'income_employee_day', 'employees_business', 'salary_employee_day'], 'label': 'salary_employee_day'}, 'data_pipeline': {'drop_features': ['field', 'from', 'zipcode', 'undergra', 'race', 'race_o'], 'keep_features': ['dec_o', 'dec', 'like', 'attr', 'from', 'zipcode', 'prob', 'like_o', 'fun', 'undergra', 'match'], 'standarize_text': ['field', 'from', 'zipcode', 'undergra'], 'str_to_float': ['income'], 'to_categorize': ['field', 'from', 'zipcode', 'undergra', 'race', 'race_o'], 'category_to_num': ['field', 'from', 'zipcode', 'undergra'], 'onehot_encoding': ['race', 'race_o'], 'numerical_vars_from_numerical': ['income', 'mn_sat', 'tuition'], 'categorical_vars': ['undergra', 'zipcode'], 'categorical_label_extraction': ['zipcode'], 'pipeline01': 'decisiontree', 'data_transform_params': {'percent_valid': 0.2, 'percent_test': 0.1}}, 'mlflow': {'tracking_uri': 'http://3.140.194.152:5000', 'tracking_experiment_name': 'mxretailsalary1'}}\n"
     ]
    }
   ],
   "source": [
    "%load_ext autoreload\n",
    "%autoreload 2\n",
    "# The %load_ext autoreload and %autoreload 2 magic commands are used to automatically \n",
    "# reload modules when they are changed. This can be useful when you are developing code \n",
    "# in an interactive environment, as it allows you to see the changes you make to your modules \n",
    "# without having to restart the kernel.\n",
    "import os\n",
    "from hydra import initialize, initialize_config_module, initialize_config_dir, compose\n",
    "from omegaconf import OmegaConf\n",
    "import pandas as pd\n",
    "import numpy as np\n",
    "import os\n",
    "\n",
    "\n",
    "# for global initialization: NOT RECOMMENDED\n",
    "#initialize(version_base=None, config_path=\"../src/conf\")\n",
    "#compose(config_name='config')\n",
    "\n",
    "with initialize(version_base=None, config_path=\"../src/conf\"):\n",
    "    cfg = compose(config_name='config')\n",
    "    print(cfg)"
   ]
  },
  {
   "cell_type": "code",
   "execution_count": 10,
   "metadata": {},
   "outputs": [
    {
     "data": {
      "text/plain": [
       "'3.0.3'"
      ]
     },
     "execution_count": 10,
     "metadata": {},
     "output_type": "execute_result"
    }
   ],
   "source": [
    "#Choose the Ml model to be applied, among: regression, Classifications, time_series, Clustering, NLP\n",
    "from pycaret.regression import *\n",
    "from pycaret import version_\n",
    "version_"
   ]
  },
  {
   "cell_type": "markdown",
   "metadata": {},
   "source": [
    "## Loading the model and unseen_data"
   ]
  },
  {
   "cell_type": "markdown",
   "metadata": {},
   "source": [
    "### first the model\n",
    "This function loads a previously saved pipeline."
   ]
  },
  {
   "cell_type": "code",
   "execution_count": 11,
   "metadata": {},
   "outputs": [
    {
     "name": "stdout",
     "output_type": "stream",
     "text": [
      "Transformation Pipeline and Model Successfully Loaded\n"
     ]
    },
    {
     "data": {
      "text/html": [
       "<style>#sk-container-id-2 {color: black;background-color: white;}#sk-container-id-2 pre{padding: 0;}#sk-container-id-2 div.sk-toggleable {background-color: white;}#sk-container-id-2 label.sk-toggleable__label {cursor: pointer;display: block;width: 100%;margin-bottom: 0;padding: 0.3em;box-sizing: border-box;text-align: center;}#sk-container-id-2 label.sk-toggleable__label-arrow:before {content: \"▸\";float: left;margin-right: 0.25em;color: #696969;}#sk-container-id-2 label.sk-toggleable__label-arrow:hover:before {color: black;}#sk-container-id-2 div.sk-estimator:hover label.sk-toggleable__label-arrow:before {color: black;}#sk-container-id-2 div.sk-toggleable__content {max-height: 0;max-width: 0;overflow: hidden;text-align: left;background-color: #f0f8ff;}#sk-container-id-2 div.sk-toggleable__content pre {margin: 0.2em;color: black;border-radius: 0.25em;background-color: #f0f8ff;}#sk-container-id-2 input.sk-toggleable__control:checked~div.sk-toggleable__content {max-height: 200px;max-width: 100%;overflow: auto;}#sk-container-id-2 input.sk-toggleable__control:checked~label.sk-toggleable__label-arrow:before {content: \"▾\";}#sk-container-id-2 div.sk-estimator input.sk-toggleable__control:checked~label.sk-toggleable__label {background-color: #d4ebff;}#sk-container-id-2 div.sk-label input.sk-toggleable__control:checked~label.sk-toggleable__label {background-color: #d4ebff;}#sk-container-id-2 input.sk-hidden--visually {border: 0;clip: rect(1px 1px 1px 1px);clip: rect(1px, 1px, 1px, 1px);height: 1px;margin: -1px;overflow: hidden;padding: 0;position: absolute;width: 1px;}#sk-container-id-2 div.sk-estimator {font-family: monospace;background-color: #f0f8ff;border: 1px dotted black;border-radius: 0.25em;box-sizing: border-box;margin-bottom: 0.5em;}#sk-container-id-2 div.sk-estimator:hover {background-color: #d4ebff;}#sk-container-id-2 div.sk-parallel-item::after {content: \"\";width: 100%;border-bottom: 1px solid gray;flex-grow: 1;}#sk-container-id-2 div.sk-label:hover label.sk-toggleable__label {background-color: #d4ebff;}#sk-container-id-2 div.sk-serial::before {content: \"\";position: absolute;border-left: 1px solid gray;box-sizing: border-box;top: 0;bottom: 0;left: 50%;z-index: 0;}#sk-container-id-2 div.sk-serial {display: flex;flex-direction: column;align-items: center;background-color: white;padding-right: 0.2em;padding-left: 0.2em;position: relative;}#sk-container-id-2 div.sk-item {position: relative;z-index: 1;}#sk-container-id-2 div.sk-parallel {display: flex;align-items: stretch;justify-content: center;background-color: white;position: relative;}#sk-container-id-2 div.sk-item::before, #sk-container-id-2 div.sk-parallel-item::before {content: \"\";position: absolute;border-left: 1px solid gray;box-sizing: border-box;top: 0;bottom: 0;left: 50%;z-index: -1;}#sk-container-id-2 div.sk-parallel-item {display: flex;flex-direction: column;z-index: 1;position: relative;background-color: white;}#sk-container-id-2 div.sk-parallel-item:first-child::after {align-self: flex-end;width: 50%;}#sk-container-id-2 div.sk-parallel-item:last-child::after {align-self: flex-start;width: 50%;}#sk-container-id-2 div.sk-parallel-item:only-child::after {width: 0;}#sk-container-id-2 div.sk-dashed-wrapped {border: 1px dashed gray;margin: 0 0.4em 0.5em 0.4em;box-sizing: border-box;padding-bottom: 0.4em;background-color: white;}#sk-container-id-2 div.sk-label label {font-family: monospace;font-weight: bold;display: inline-block;line-height: 1.2em;}#sk-container-id-2 div.sk-label-container {text-align: center;}#sk-container-id-2 div.sk-container {/* jupyter's `normalize.less` sets `[hidden] { display: none; }` but bootstrap.min.css set `[hidden] { display: none !important; }` so we also need the `!important` here to be able to override the default hidden behavior on the sphinx rendered scikit-learn.org. See: https://github.com/scikit-learn/scikit-learn/issues/21755 */display: inline-block !important;position: relative;}#sk-container-id-2 div.sk-text-repr-fallback {display: none;}</style><div id=\"sk-container-id-2\" class=\"sk-top-container\"><div class=\"sk-text-repr-fallback\"><pre>Pipeline(memory=FastMemory(location=/tmp/joblib),\n",
       "         steps=[(&#x27;numerical_imputer&#x27;,\n",
       "                 TransformerWrapper(include=[&#x27;income_employee_day&#x27;,\n",
       "                                             &#x27;employees_business&#x27;],\n",
       "                                    transformer=SimpleImputer())),\n",
       "                (&#x27;categorical_imputer&#x27;,\n",
       "                 TransformerWrapper(include=[&#x27;state&#x27;],\n",
       "                                    transformer=SimpleImputer(strategy=&#x27;most_frequent&#x27;))),\n",
       "                (&#x27;onehot_encoding&#x27;,\n",
       "                 TransformerWrapper(include=[&#x27;state&#x27;],\n",
       "                                    t...\n",
       "                (&#x27;actual_estimator&#x27;,\n",
       "                 VotingRegressor(estimators=[(&#x27;CatBoost Regressor&#x27;,\n",
       "                                              &lt;catboost.core.CatBoostRegressor object at 0x7f5b8e6a5330&gt;),\n",
       "                                             (&#x27;Gradient Boosting Regressor&#x27;,\n",
       "                                              GradientBoostingRegressor(random_state=123)),\n",
       "                                             (&#x27;Huber Regressor&#x27;,\n",
       "                                              HuberRegressor()),\n",
       "                                             (&#x27;Bayesian Ridge&#x27;,\n",
       "                                              BayesianRidge()),\n",
       "                                             (&#x27;Ridge Regression&#x27;,\n",
       "                                              Ridge(random_state=123))],\n",
       "                                 n_jobs=-1,\n",
       "                                 weights=[0.4, 0.3, 0.2, 0.07, 0.03]))])</pre><b>In a Jupyter environment, please rerun this cell to show the HTML representation or trust the notebook. <br />On GitHub, the HTML representation is unable to render, please try loading this page with nbviewer.org.</b></div><div class=\"sk-container\" hidden><div class=\"sk-item sk-dashed-wrapped\"><div class=\"sk-label-container\"><div class=\"sk-label sk-toggleable\"><input class=\"sk-toggleable__control sk-hidden--visually\" id=\"sk-estimator-id-23\" type=\"checkbox\" ><label for=\"sk-estimator-id-23\" class=\"sk-toggleable__label sk-toggleable__label-arrow\">Pipeline</label><div class=\"sk-toggleable__content\"><pre>Pipeline(memory=FastMemory(location=/tmp/joblib),\n",
       "         steps=[(&#x27;numerical_imputer&#x27;,\n",
       "                 TransformerWrapper(include=[&#x27;income_employee_day&#x27;,\n",
       "                                             &#x27;employees_business&#x27;],\n",
       "                                    transformer=SimpleImputer())),\n",
       "                (&#x27;categorical_imputer&#x27;,\n",
       "                 TransformerWrapper(include=[&#x27;state&#x27;],\n",
       "                                    transformer=SimpleImputer(strategy=&#x27;most_frequent&#x27;))),\n",
       "                (&#x27;onehot_encoding&#x27;,\n",
       "                 TransformerWrapper(include=[&#x27;state&#x27;],\n",
       "                                    t...\n",
       "                (&#x27;actual_estimator&#x27;,\n",
       "                 VotingRegressor(estimators=[(&#x27;CatBoost Regressor&#x27;,\n",
       "                                              &lt;catboost.core.CatBoostRegressor object at 0x7f5b8e6a5330&gt;),\n",
       "                                             (&#x27;Gradient Boosting Regressor&#x27;,\n",
       "                                              GradientBoostingRegressor(random_state=123)),\n",
       "                                             (&#x27;Huber Regressor&#x27;,\n",
       "                                              HuberRegressor()),\n",
       "                                             (&#x27;Bayesian Ridge&#x27;,\n",
       "                                              BayesianRidge()),\n",
       "                                             (&#x27;Ridge Regression&#x27;,\n",
       "                                              Ridge(random_state=123))],\n",
       "                                 n_jobs=-1,\n",
       "                                 weights=[0.4, 0.3, 0.2, 0.07, 0.03]))])</pre></div></div></div><div class=\"sk-serial\"><div class=\"sk-item sk-dashed-wrapped\"><div class=\"sk-label-container\"><div class=\"sk-label sk-toggleable\"><input class=\"sk-toggleable__control sk-hidden--visually\" id=\"sk-estimator-id-24\" type=\"checkbox\" ><label for=\"sk-estimator-id-24\" class=\"sk-toggleable__label sk-toggleable__label-arrow\">numerical_imputer: TransformerWrapper</label><div class=\"sk-toggleable__content\"><pre>TransformerWrapper(include=[&#x27;income_employee_day&#x27;, &#x27;employees_business&#x27;],\n",
       "                   transformer=SimpleImputer())</pre></div></div></div><div class=\"sk-parallel\"><div class=\"sk-parallel-item\"><div class=\"sk-item\"><div class=\"sk-label-container\"><div class=\"sk-label sk-toggleable\"><input class=\"sk-toggleable__control sk-hidden--visually\" id=\"sk-estimator-id-25\" type=\"checkbox\" ><label for=\"sk-estimator-id-25\" class=\"sk-toggleable__label sk-toggleable__label-arrow\">transformer: SimpleImputer</label><div class=\"sk-toggleable__content\"><pre>SimpleImputer()</pre></div></div></div><div class=\"sk-serial\"><div class=\"sk-item\"><div class=\"sk-estimator sk-toggleable\"><input class=\"sk-toggleable__control sk-hidden--visually\" id=\"sk-estimator-id-26\" type=\"checkbox\" ><label for=\"sk-estimator-id-26\" class=\"sk-toggleable__label sk-toggleable__label-arrow\">SimpleImputer</label><div class=\"sk-toggleable__content\"><pre>SimpleImputer()</pre></div></div></div></div></div></div></div></div><div class=\"sk-item sk-dashed-wrapped\"><div class=\"sk-label-container\"><div class=\"sk-label sk-toggleable\"><input class=\"sk-toggleable__control sk-hidden--visually\" id=\"sk-estimator-id-27\" type=\"checkbox\" ><label for=\"sk-estimator-id-27\" class=\"sk-toggleable__label sk-toggleable__label-arrow\">categorical_imputer: TransformerWrapper</label><div class=\"sk-toggleable__content\"><pre>TransformerWrapper(include=[&#x27;state&#x27;],\n",
       "                   transformer=SimpleImputer(strategy=&#x27;most_frequent&#x27;))</pre></div></div></div><div class=\"sk-parallel\"><div class=\"sk-parallel-item\"><div class=\"sk-item\"><div class=\"sk-label-container\"><div class=\"sk-label sk-toggleable\"><input class=\"sk-toggleable__control sk-hidden--visually\" id=\"sk-estimator-id-28\" type=\"checkbox\" ><label for=\"sk-estimator-id-28\" class=\"sk-toggleable__label sk-toggleable__label-arrow\">transformer: SimpleImputer</label><div class=\"sk-toggleable__content\"><pre>SimpleImputer(strategy=&#x27;most_frequent&#x27;)</pre></div></div></div><div class=\"sk-serial\"><div class=\"sk-item\"><div class=\"sk-estimator sk-toggleable\"><input class=\"sk-toggleable__control sk-hidden--visually\" id=\"sk-estimator-id-29\" type=\"checkbox\" ><label for=\"sk-estimator-id-29\" class=\"sk-toggleable__label sk-toggleable__label-arrow\">SimpleImputer</label><div class=\"sk-toggleable__content\"><pre>SimpleImputer(strategy=&#x27;most_frequent&#x27;)</pre></div></div></div></div></div></div></div></div><div class=\"sk-item sk-dashed-wrapped\"><div class=\"sk-label-container\"><div class=\"sk-label sk-toggleable\"><input class=\"sk-toggleable__control sk-hidden--visually\" id=\"sk-estimator-id-30\" type=\"checkbox\" ><label for=\"sk-estimator-id-30\" class=\"sk-toggleable__label sk-toggleable__label-arrow\">onehot_encoding: TransformerWrapper</label><div class=\"sk-toggleable__content\"><pre>TransformerWrapper(include=[&#x27;state&#x27;],\n",
       "                   transformer=OneHotEncoder(cols=[&#x27;state&#x27;],\n",
       "                                             handle_missing=&#x27;return_nan&#x27;,\n",
       "                                             use_cat_names=True))</pre></div></div></div><div class=\"sk-parallel\"><div class=\"sk-parallel-item\"><div class=\"sk-item\"><div class=\"sk-label-container\"><div class=\"sk-label sk-toggleable\"><input class=\"sk-toggleable__control sk-hidden--visually\" id=\"sk-estimator-id-31\" type=\"checkbox\" ><label for=\"sk-estimator-id-31\" class=\"sk-toggleable__label sk-toggleable__label-arrow\">transformer: OneHotEncoder</label><div class=\"sk-toggleable__content\"><pre>OneHotEncoder(cols=[&#x27;state&#x27;], handle_missing=&#x27;return_nan&#x27;, use_cat_names=True)</pre></div></div></div><div class=\"sk-serial\"><div class=\"sk-item\"><div class=\"sk-estimator sk-toggleable\"><input class=\"sk-toggleable__control sk-hidden--visually\" id=\"sk-estimator-id-32\" type=\"checkbox\" ><label for=\"sk-estimator-id-32\" class=\"sk-toggleable__label sk-toggleable__label-arrow\">OneHotEncoder</label><div class=\"sk-toggleable__content\"><pre>OneHotEncoder(cols=[&#x27;state&#x27;], handle_missing=&#x27;return_nan&#x27;, use_cat_names=True)</pre></div></div></div></div></div></div></div></div><div class=\"sk-item sk-dashed-wrapped\"><div class=\"sk-label-container\"><div class=\"sk-label sk-toggleable\"><input class=\"sk-toggleable__control sk-hidden--visually\" id=\"sk-estimator-id-33\" type=\"checkbox\" ><label for=\"sk-estimator-id-33\" class=\"sk-toggleable__label sk-toggleable__label-arrow\">transformation: TransformerWrapper</label><div class=\"sk-toggleable__content\"><pre>TransformerWrapper(transformer=PowerTransformer(standardize=False))</pre></div></div></div><div class=\"sk-parallel\"><div class=\"sk-parallel-item\"><div class=\"sk-item\"><div class=\"sk-label-container\"><div class=\"sk-label sk-toggleable\"><input class=\"sk-toggleable__control sk-hidden--visually\" id=\"sk-estimator-id-34\" type=\"checkbox\" ><label for=\"sk-estimator-id-34\" class=\"sk-toggleable__label sk-toggleable__label-arrow\">transformer: PowerTransformer</label><div class=\"sk-toggleable__content\"><pre>PowerTransformer(standardize=False)</pre></div></div></div><div class=\"sk-serial\"><div class=\"sk-item\"><div class=\"sk-estimator sk-toggleable\"><input class=\"sk-toggleable__control sk-hidden--visually\" id=\"sk-estimator-id-35\" type=\"checkbox\" ><label for=\"sk-estimator-id-35\" class=\"sk-toggleable__label sk-toggleable__label-arrow\">PowerTransformer</label><div class=\"sk-toggleable__content\"><pre>PowerTransformer(standardize=False)</pre></div></div></div></div></div></div></div></div><div class=\"sk-item sk-dashed-wrapped\"><div class=\"sk-label-container\"><div class=\"sk-label sk-toggleable\"><input class=\"sk-toggleable__control sk-hidden--visually\" id=\"sk-estimator-id-36\" type=\"checkbox\" ><label for=\"sk-estimator-id-36\" class=\"sk-toggleable__label sk-toggleable__label-arrow\">normalize: TransformerWrapper</label><div class=\"sk-toggleable__content\"><pre>TransformerWrapper(transformer=MinMaxScaler())</pre></div></div></div><div class=\"sk-parallel\"><div class=\"sk-parallel-item\"><div class=\"sk-item\"><div class=\"sk-label-container\"><div class=\"sk-label sk-toggleable\"><input class=\"sk-toggleable__control sk-hidden--visually\" id=\"sk-estimator-id-37\" type=\"checkbox\" ><label for=\"sk-estimator-id-37\" class=\"sk-toggleable__label sk-toggleable__label-arrow\">transformer: MinMaxScaler</label><div class=\"sk-toggleable__content\"><pre>MinMaxScaler()</pre></div></div></div><div class=\"sk-serial\"><div class=\"sk-item\"><div class=\"sk-estimator sk-toggleable\"><input class=\"sk-toggleable__control sk-hidden--visually\" id=\"sk-estimator-id-38\" type=\"checkbox\" ><label for=\"sk-estimator-id-38\" class=\"sk-toggleable__label sk-toggleable__label-arrow\">MinMaxScaler</label><div class=\"sk-toggleable__content\"><pre>MinMaxScaler()</pre></div></div></div></div></div></div></div></div><div class=\"sk-item sk-dashed-wrapped\"><div class=\"sk-label-container\"><div class=\"sk-label sk-toggleable\"><input class=\"sk-toggleable__control sk-hidden--visually\" id=\"sk-estimator-id-39\" type=\"checkbox\" ><label for=\"sk-estimator-id-39\" class=\"sk-toggleable__label sk-toggleable__label-arrow\">actual_estimator: VotingRegressor</label><div class=\"sk-toggleable__content\"><pre>VotingRegressor(estimators=[(&#x27;CatBoost Regressor&#x27;,\n",
       "                             &lt;catboost.core.CatBoostRegressor object at 0x7f5b8e6a5330&gt;),\n",
       "                            (&#x27;Gradient Boosting Regressor&#x27;,\n",
       "                             GradientBoostingRegressor(random_state=123)),\n",
       "                            (&#x27;Huber Regressor&#x27;, HuberRegressor()),\n",
       "                            (&#x27;Bayesian Ridge&#x27;, BayesianRidge()),\n",
       "                            (&#x27;Ridge Regression&#x27;, Ridge(random_state=123))],\n",
       "                n_jobs=-1, weights=[0.4, 0.3, 0.2, 0.07, 0.03])</pre></div></div></div><div class=\"sk-parallel\"><div class=\"sk-parallel-item\"><div class=\"sk-item\"><div class=\"sk-label-container\"><div class=\"sk-label sk-toggleable\"><label>CatBoost Regressor</label></div></div><div class=\"sk-serial\"><div class=\"sk-item\"><div class=\"sk-estimator sk-toggleable\"><input class=\"sk-toggleable__control sk-hidden--visually\" id=\"sk-estimator-id-40\" type=\"checkbox\" ><label for=\"sk-estimator-id-40\" class=\"sk-toggleable__label sk-toggleable__label-arrow\">CatBoostRegressor</label><div class=\"sk-toggleable__content\"><pre>&lt;catboost.core.CatBoostRegressor object at 0x7f5b8e6a5330&gt;</pre></div></div></div></div></div></div><div class=\"sk-parallel-item\"><div class=\"sk-item\"><div class=\"sk-label-container\"><div class=\"sk-label sk-toggleable\"><label>Gradient Boosting Regressor</label></div></div><div class=\"sk-serial\"><div class=\"sk-item\"><div class=\"sk-estimator sk-toggleable\"><input class=\"sk-toggleable__control sk-hidden--visually\" id=\"sk-estimator-id-41\" type=\"checkbox\" ><label for=\"sk-estimator-id-41\" class=\"sk-toggleable__label sk-toggleable__label-arrow\">GradientBoostingRegressor</label><div class=\"sk-toggleable__content\"><pre>GradientBoostingRegressor(random_state=123)</pre></div></div></div></div></div></div><div class=\"sk-parallel-item\"><div class=\"sk-item\"><div class=\"sk-label-container\"><div class=\"sk-label sk-toggleable\"><label>Huber Regressor</label></div></div><div class=\"sk-serial\"><div class=\"sk-item\"><div class=\"sk-estimator sk-toggleable\"><input class=\"sk-toggleable__control sk-hidden--visually\" id=\"sk-estimator-id-42\" type=\"checkbox\" ><label for=\"sk-estimator-id-42\" class=\"sk-toggleable__label sk-toggleable__label-arrow\">HuberRegressor</label><div class=\"sk-toggleable__content\"><pre>HuberRegressor()</pre></div></div></div></div></div></div><div class=\"sk-parallel-item\"><div class=\"sk-item\"><div class=\"sk-label-container\"><div class=\"sk-label sk-toggleable\"><label>Bayesian Ridge</label></div></div><div class=\"sk-serial\"><div class=\"sk-item\"><div class=\"sk-estimator sk-toggleable\"><input class=\"sk-toggleable__control sk-hidden--visually\" id=\"sk-estimator-id-43\" type=\"checkbox\" ><label for=\"sk-estimator-id-43\" class=\"sk-toggleable__label sk-toggleable__label-arrow\">BayesianRidge</label><div class=\"sk-toggleable__content\"><pre>BayesianRidge()</pre></div></div></div></div></div></div><div class=\"sk-parallel-item\"><div class=\"sk-item\"><div class=\"sk-label-container\"><div class=\"sk-label sk-toggleable\"><label>Ridge Regression</label></div></div><div class=\"sk-serial\"><div class=\"sk-item\"><div class=\"sk-estimator sk-toggleable\"><input class=\"sk-toggleable__control sk-hidden--visually\" id=\"sk-estimator-id-44\" type=\"checkbox\" ><label for=\"sk-estimator-id-44\" class=\"sk-toggleable__label sk-toggleable__label-arrow\">Ridge</label><div class=\"sk-toggleable__content\"><pre>Ridge(random_state=123)</pre></div></div></div></div></div></div></div></div></div></div></div></div>"
      ],
      "text/plain": [
       "Pipeline(memory=FastMemory(location=/tmp/joblib),\n",
       "         steps=[('numerical_imputer',\n",
       "                 TransformerWrapper(include=['income_employee_day',\n",
       "                                             'employees_business'],\n",
       "                                    transformer=SimpleImputer())),\n",
       "                ('categorical_imputer',\n",
       "                 TransformerWrapper(include=['state'],\n",
       "                                    transformer=SimpleImputer(strategy='most_frequent'))),\n",
       "                ('onehot_encoding',\n",
       "                 TransformerWrapper(include=['state'],\n",
       "                                    t...\n",
       "                ('actual_estimator',\n",
       "                 VotingRegressor(estimators=[('CatBoost Regressor',\n",
       "                                              <catboost.core.CatBoostRegressor object at 0x7f5b8e6a5330>),\n",
       "                                             ('Gradient Boosting Regressor',\n",
       "                                              GradientBoostingRegressor(random_state=123)),\n",
       "                                             ('Huber Regressor',\n",
       "                                              HuberRegressor()),\n",
       "                                             ('Bayesian Ridge',\n",
       "                                              BayesianRidge()),\n",
       "                                             ('Ridge Regression',\n",
       "                                              Ridge(random_state=123))],\n",
       "                                 n_jobs=-1,\n",
       "                                 weights=[0.4, 0.3, 0.2, 0.07, 0.03]))])"
      ]
     },
     "execution_count": 11,
     "metadata": {},
     "output_type": "execute_result"
    }
   ],
   "source": [
    "selected_model = load_model(os.path.join(cfg.paths.models_dir, cfg.file_names.ml_profiling_best))\n",
    "selected_model"
   ]
  },
  {
   "cell_type": "markdown",
   "metadata": {},
   "source": [
    "### then, unseen_data"
   ]
  },
  {
   "cell_type": "code",
   "execution_count": 12,
   "metadata": {},
   "outputs": [
    {
     "data": {
      "text/html": [
       "<div>\n",
       "<style scoped>\n",
       "    .dataframe tbody tr th:only-of-type {\n",
       "        vertical-align: middle;\n",
       "    }\n",
       "\n",
       "    .dataframe tbody tr th {\n",
       "        vertical-align: top;\n",
       "    }\n",
       "\n",
       "    .dataframe thead th {\n",
       "        text-align: right;\n",
       "    }\n",
       "</style>\n",
       "<table border=\"1\" class=\"dataframe\">\n",
       "  <thead>\n",
       "    <tr style=\"text-align: right;\">\n",
       "      <th></th>\n",
       "      <th>state</th>\n",
       "      <th>income_employee_day</th>\n",
       "      <th>employees_business</th>\n",
       "      <th>salary_employee_day</th>\n",
       "    </tr>\n",
       "  </thead>\n",
       "  <tbody>\n",
       "    <tr>\n",
       "      <th>0</th>\n",
       "      <td>Oaxaca</td>\n",
       "      <td>6021.068300</td>\n",
       "      <td>4</td>\n",
       "      <td>395.386549</td>\n",
       "    </tr>\n",
       "    <tr>\n",
       "      <th>1</th>\n",
       "      <td>Veracruz</td>\n",
       "      <td>12113.568050</td>\n",
       "      <td>6</td>\n",
       "      <td>573.941444</td>\n",
       "    </tr>\n",
       "    <tr>\n",
       "      <th>2</th>\n",
       "      <td>Michoacan</td>\n",
       "      <td>28979.260706</td>\n",
       "      <td>4</td>\n",
       "      <td>291.728084</td>\n",
       "    </tr>\n",
       "    <tr>\n",
       "      <th>3</th>\n",
       "      <td>Puebla</td>\n",
       "      <td>10824.636591</td>\n",
       "      <td>5</td>\n",
       "      <td>435.024135</td>\n",
       "    </tr>\n",
       "    <tr>\n",
       "      <th>4</th>\n",
       "      <td>Yucatan</td>\n",
       "      <td>32134.630792</td>\n",
       "      <td>11</td>\n",
       "      <td>881.853456</td>\n",
       "    </tr>\n",
       "  </tbody>\n",
       "</table>\n",
       "</div>"
      ],
      "text/plain": [
       "       state  income_employee_day  employees_business  salary_employee_day\n",
       "0     Oaxaca          6021.068300                   4           395.386549\n",
       "1   Veracruz         12113.568050                   6           573.941444\n",
       "2  Michoacan         28979.260706                   4           291.728084\n",
       "3     Puebla         10824.636591                   5           435.024135\n",
       "4    Yucatan         32134.630792                  11           881.853456"
      ]
     },
     "execution_count": 12,
     "metadata": {},
     "output_type": "execute_result"
    }
   ],
   "source": [
    "unseen_data = pd.read_csv(os.path.join(cfg.paths.processed_data_dir, cfg.file_names.processed_unseen_data), \n",
    "                   #encoding=cfg.general_ml.encoding,\n",
    "                   )\n",
    "unseen_data.head()"
   ]
  },
  {
   "cell_type": "markdown",
   "metadata": {},
   "source": [
    "### now predict on unseen_data\n",
    "This function generates the label using a trained model.  When data is None, it predicts label and score on the holdout set. "
   ]
  },
  {
   "cell_type": "code",
   "execution_count": 8,
   "metadata": {},
   "outputs": [
    {
     "data": {
      "text/html": [
       "<div>\n",
       "<style scoped>\n",
       "    .dataframe tbody tr th:only-of-type {\n",
       "        vertical-align: middle;\n",
       "    }\n",
       "\n",
       "    .dataframe tbody tr th {\n",
       "        vertical-align: top;\n",
       "    }\n",
       "\n",
       "    .dataframe thead th {\n",
       "        text-align: right;\n",
       "    }\n",
       "</style>\n",
       "<table border=\"1\" class=\"dataframe\">\n",
       "  <thead>\n",
       "    <tr style=\"text-align: right;\">\n",
       "      <th></th>\n",
       "      <th>state</th>\n",
       "      <th>income_employee_day</th>\n",
       "      <th>employees_business</th>\n",
       "      <th>salary_employee_day</th>\n",
       "      <th>prediction_label</th>\n",
       "    </tr>\n",
       "  </thead>\n",
       "  <tbody>\n",
       "    <tr>\n",
       "      <th>0</th>\n",
       "      <td>Oaxaca</td>\n",
       "      <td>6021.068359</td>\n",
       "      <td>4</td>\n",
       "      <td>395.386536</td>\n",
       "      <td>192.142239</td>\n",
       "    </tr>\n",
       "    <tr>\n",
       "      <th>1</th>\n",
       "      <td>Veracruz</td>\n",
       "      <td>12113.568359</td>\n",
       "      <td>6</td>\n",
       "      <td>573.941467</td>\n",
       "      <td>451.583270</td>\n",
       "    </tr>\n",
       "    <tr>\n",
       "      <th>2</th>\n",
       "      <td>Michoacan</td>\n",
       "      <td>28979.259766</td>\n",
       "      <td>4</td>\n",
       "      <td>291.728088</td>\n",
       "      <td>374.386688</td>\n",
       "    </tr>\n",
       "    <tr>\n",
       "      <th>3</th>\n",
       "      <td>Puebla</td>\n",
       "      <td>10824.636719</td>\n",
       "      <td>5</td>\n",
       "      <td>435.024139</td>\n",
       "      <td>383.076618</td>\n",
       "    </tr>\n",
       "    <tr>\n",
       "      <th>4</th>\n",
       "      <td>Yucatan</td>\n",
       "      <td>32134.630859</td>\n",
       "      <td>11</td>\n",
       "      <td>881.853455</td>\n",
       "      <td>725.390608</td>\n",
       "    </tr>\n",
       "    <tr>\n",
       "      <th>...</th>\n",
       "      <td>...</td>\n",
       "      <td>...</td>\n",
       "      <td>...</td>\n",
       "      <td>...</td>\n",
       "      <td>...</td>\n",
       "    </tr>\n",
       "    <tr>\n",
       "      <th>1245</th>\n",
       "      <td>Oaxaca</td>\n",
       "      <td>8606.669922</td>\n",
       "      <td>6</td>\n",
       "      <td>331.792908</td>\n",
       "      <td>314.955454</td>\n",
       "    </tr>\n",
       "    <tr>\n",
       "      <th>1246</th>\n",
       "      <td>Yucatan</td>\n",
       "      <td>8553.745117</td>\n",
       "      <td>7</td>\n",
       "      <td>220.410995</td>\n",
       "      <td>259.652198</td>\n",
       "    </tr>\n",
       "    <tr>\n",
       "      <th>1247</th>\n",
       "      <td>Durango</td>\n",
       "      <td>45161.300781</td>\n",
       "      <td>12</td>\n",
       "      <td>1069.434692</td>\n",
       "      <td>906.899124</td>\n",
       "    </tr>\n",
       "    <tr>\n",
       "      <th>1248</th>\n",
       "      <td>Nayarit</td>\n",
       "      <td>23687.837891</td>\n",
       "      <td>10</td>\n",
       "      <td>645.820679</td>\n",
       "      <td>642.583502</td>\n",
       "    </tr>\n",
       "    <tr>\n",
       "      <th>1249</th>\n",
       "      <td>Michoacan</td>\n",
       "      <td>7982.667480</td>\n",
       "      <td>5</td>\n",
       "      <td>235.559830</td>\n",
       "      <td>253.450734</td>\n",
       "    </tr>\n",
       "  </tbody>\n",
       "</table>\n",
       "<p>1250 rows × 5 columns</p>\n",
       "</div>"
      ],
      "text/plain": [
       "          state  income_employee_day  employees_business  salary_employee_day  \\\n",
       "0        Oaxaca          6021.068359                   4           395.386536   \n",
       "1      Veracruz         12113.568359                   6           573.941467   \n",
       "2     Michoacan         28979.259766                   4           291.728088   \n",
       "3        Puebla         10824.636719                   5           435.024139   \n",
       "4       Yucatan         32134.630859                  11           881.853455   \n",
       "...         ...                  ...                 ...                  ...   \n",
       "1245     Oaxaca          8606.669922                   6           331.792908   \n",
       "1246    Yucatan          8553.745117                   7           220.410995   \n",
       "1247    Durango         45161.300781                  12          1069.434692   \n",
       "1248    Nayarit         23687.837891                  10           645.820679   \n",
       "1249  Michoacan          7982.667480                   5           235.559830   \n",
       "\n",
       "      prediction_label  \n",
       "0           192.142239  \n",
       "1           451.583270  \n",
       "2           374.386688  \n",
       "3           383.076618  \n",
       "4           725.390608  \n",
       "...                ...  \n",
       "1245        314.955454  \n",
       "1246        259.652198  \n",
       "1247        906.899124  \n",
       "1248        642.583502  \n",
       "1249        253.450734  \n",
       "\n",
       "[1250 rows x 5 columns]"
      ]
     },
     "execution_count": 8,
     "metadata": {},
     "output_type": "execute_result"
    }
   ],
   "source": [
    "predict_model(selected_model, data=unseen_data) "
   ]
  },
  {
   "cell_type": "markdown",
   "metadata": {},
   "source": [
    "## Deployment"
   ]
  },
  {
   "attachments": {},
   "cell_type": "markdown",
   "metadata": {},
   "source": [
    "### as API with FastAPI\n",
    "This function takes an input model and creates a POST API for inference. It only creates the API and doesn't run it automatically. \n",
    "Once you initialize API with the !python command. You can see the server on localhost:8000/docs."
   ]
  },
  {
   "cell_type": "code",
   "execution_count": 14,
   "metadata": {},
   "outputs": [
    {
     "data": {
      "text/html": [
       "<style type=\"text/css\">\n",
       "#T_087d4_row9_col1, #T_087d4_row15_col1, #T_087d4_row17_col1 {\n",
       "  background-color: lightgreen;\n",
       "}\n",
       "</style>\n",
       "<table id=\"T_087d4\">\n",
       "  <thead>\n",
       "    <tr>\n",
       "      <th class=\"blank level0\" >&nbsp;</th>\n",
       "      <th id=\"T_087d4_level0_col0\" class=\"col_heading level0 col0\" >Description</th>\n",
       "      <th id=\"T_087d4_level0_col1\" class=\"col_heading level0 col1\" >Value</th>\n",
       "    </tr>\n",
       "  </thead>\n",
       "  <tbody>\n",
       "    <tr>\n",
       "      <th id=\"T_087d4_level0_row0\" class=\"row_heading level0 row0\" >0</th>\n",
       "      <td id=\"T_087d4_row0_col0\" class=\"data row0 col0\" >Session id</td>\n",
       "      <td id=\"T_087d4_row0_col1\" class=\"data row0 col1\" >123</td>\n",
       "    </tr>\n",
       "    <tr>\n",
       "      <th id=\"T_087d4_level0_row1\" class=\"row_heading level0 row1\" >1</th>\n",
       "      <td id=\"T_087d4_row1_col0\" class=\"data row1 col0\" >Target</td>\n",
       "      <td id=\"T_087d4_row1_col1\" class=\"data row1 col1\" >salary_employee_day</td>\n",
       "    </tr>\n",
       "    <tr>\n",
       "      <th id=\"T_087d4_level0_row2\" class=\"row_heading level0 row2\" >2</th>\n",
       "      <td id=\"T_087d4_row2_col0\" class=\"data row2 col0\" >Target type</td>\n",
       "      <td id=\"T_087d4_row2_col1\" class=\"data row2 col1\" >Regression</td>\n",
       "    </tr>\n",
       "    <tr>\n",
       "      <th id=\"T_087d4_level0_row3\" class=\"row_heading level0 row3\" >3</th>\n",
       "      <td id=\"T_087d4_row3_col0\" class=\"data row3 col0\" >Original data shape</td>\n",
       "      <td id=\"T_087d4_row3_col1\" class=\"data row3 col1\" >(1250, 4)</td>\n",
       "    </tr>\n",
       "    <tr>\n",
       "      <th id=\"T_087d4_level0_row4\" class=\"row_heading level0 row4\" >4</th>\n",
       "      <td id=\"T_087d4_row4_col0\" class=\"data row4 col0\" >Transformed data shape</td>\n",
       "      <td id=\"T_087d4_row4_col1\" class=\"data row4 col1\" >(1250, 35)</td>\n",
       "    </tr>\n",
       "    <tr>\n",
       "      <th id=\"T_087d4_level0_row5\" class=\"row_heading level0 row5\" >5</th>\n",
       "      <td id=\"T_087d4_row5_col0\" class=\"data row5 col0\" >Transformed train set shape</td>\n",
       "      <td id=\"T_087d4_row5_col1\" class=\"data row5 col1\" >(875, 35)</td>\n",
       "    </tr>\n",
       "    <tr>\n",
       "      <th id=\"T_087d4_level0_row6\" class=\"row_heading level0 row6\" >6</th>\n",
       "      <td id=\"T_087d4_row6_col0\" class=\"data row6 col0\" >Transformed test set shape</td>\n",
       "      <td id=\"T_087d4_row6_col1\" class=\"data row6 col1\" >(375, 35)</td>\n",
       "    </tr>\n",
       "    <tr>\n",
       "      <th id=\"T_087d4_level0_row7\" class=\"row_heading level0 row7\" >7</th>\n",
       "      <td id=\"T_087d4_row7_col0\" class=\"data row7 col0\" >Numeric features</td>\n",
       "      <td id=\"T_087d4_row7_col1\" class=\"data row7 col1\" >2</td>\n",
       "    </tr>\n",
       "    <tr>\n",
       "      <th id=\"T_087d4_level0_row8\" class=\"row_heading level0 row8\" >8</th>\n",
       "      <td id=\"T_087d4_row8_col0\" class=\"data row8 col0\" >Categorical features</td>\n",
       "      <td id=\"T_087d4_row8_col1\" class=\"data row8 col1\" >1</td>\n",
       "    </tr>\n",
       "    <tr>\n",
       "      <th id=\"T_087d4_level0_row9\" class=\"row_heading level0 row9\" >9</th>\n",
       "      <td id=\"T_087d4_row9_col0\" class=\"data row9 col0\" >Preprocess</td>\n",
       "      <td id=\"T_087d4_row9_col1\" class=\"data row9 col1\" >True</td>\n",
       "    </tr>\n",
       "    <tr>\n",
       "      <th id=\"T_087d4_level0_row10\" class=\"row_heading level0 row10\" >10</th>\n",
       "      <td id=\"T_087d4_row10_col0\" class=\"data row10 col0\" >Imputation type</td>\n",
       "      <td id=\"T_087d4_row10_col1\" class=\"data row10 col1\" >simple</td>\n",
       "    </tr>\n",
       "    <tr>\n",
       "      <th id=\"T_087d4_level0_row11\" class=\"row_heading level0 row11\" >11</th>\n",
       "      <td id=\"T_087d4_row11_col0\" class=\"data row11 col0\" >Numeric imputation</td>\n",
       "      <td id=\"T_087d4_row11_col1\" class=\"data row11 col1\" >mean</td>\n",
       "    </tr>\n",
       "    <tr>\n",
       "      <th id=\"T_087d4_level0_row12\" class=\"row_heading level0 row12\" >12</th>\n",
       "      <td id=\"T_087d4_row12_col0\" class=\"data row12 col0\" >Categorical imputation</td>\n",
       "      <td id=\"T_087d4_row12_col1\" class=\"data row12 col1\" >mode</td>\n",
       "    </tr>\n",
       "    <tr>\n",
       "      <th id=\"T_087d4_level0_row13\" class=\"row_heading level0 row13\" >13</th>\n",
       "      <td id=\"T_087d4_row13_col0\" class=\"data row13 col0\" >Maximum one-hot encoding</td>\n",
       "      <td id=\"T_087d4_row13_col1\" class=\"data row13 col1\" >32</td>\n",
       "    </tr>\n",
       "    <tr>\n",
       "      <th id=\"T_087d4_level0_row14\" class=\"row_heading level0 row14\" >14</th>\n",
       "      <td id=\"T_087d4_row14_col0\" class=\"data row14 col0\" >Encoding method</td>\n",
       "      <td id=\"T_087d4_row14_col1\" class=\"data row14 col1\" >None</td>\n",
       "    </tr>\n",
       "    <tr>\n",
       "      <th id=\"T_087d4_level0_row15\" class=\"row_heading level0 row15\" >15</th>\n",
       "      <td id=\"T_087d4_row15_col0\" class=\"data row15 col0\" >Transformation</td>\n",
       "      <td id=\"T_087d4_row15_col1\" class=\"data row15 col1\" >True</td>\n",
       "    </tr>\n",
       "    <tr>\n",
       "      <th id=\"T_087d4_level0_row16\" class=\"row_heading level0 row16\" >16</th>\n",
       "      <td id=\"T_087d4_row16_col0\" class=\"data row16 col0\" >Transformation method</td>\n",
       "      <td id=\"T_087d4_row16_col1\" class=\"data row16 col1\" >yeo-johnson</td>\n",
       "    </tr>\n",
       "    <tr>\n",
       "      <th id=\"T_087d4_level0_row17\" class=\"row_heading level0 row17\" >17</th>\n",
       "      <td id=\"T_087d4_row17_col0\" class=\"data row17 col0\" >Normalize</td>\n",
       "      <td id=\"T_087d4_row17_col1\" class=\"data row17 col1\" >True</td>\n",
       "    </tr>\n",
       "    <tr>\n",
       "      <th id=\"T_087d4_level0_row18\" class=\"row_heading level0 row18\" >18</th>\n",
       "      <td id=\"T_087d4_row18_col0\" class=\"data row18 col0\" >Normalize method</td>\n",
       "      <td id=\"T_087d4_row18_col1\" class=\"data row18 col1\" >minmax</td>\n",
       "    </tr>\n",
       "    <tr>\n",
       "      <th id=\"T_087d4_level0_row19\" class=\"row_heading level0 row19\" >19</th>\n",
       "      <td id=\"T_087d4_row19_col0\" class=\"data row19 col0\" >Fold Generator</td>\n",
       "      <td id=\"T_087d4_row19_col1\" class=\"data row19 col1\" >KFold</td>\n",
       "    </tr>\n",
       "    <tr>\n",
       "      <th id=\"T_087d4_level0_row20\" class=\"row_heading level0 row20\" >20</th>\n",
       "      <td id=\"T_087d4_row20_col0\" class=\"data row20 col0\" >Fold Number</td>\n",
       "      <td id=\"T_087d4_row20_col1\" class=\"data row20 col1\" >10</td>\n",
       "    </tr>\n",
       "    <tr>\n",
       "      <th id=\"T_087d4_level0_row21\" class=\"row_heading level0 row21\" >21</th>\n",
       "      <td id=\"T_087d4_row21_col0\" class=\"data row21 col0\" >CPU Jobs</td>\n",
       "      <td id=\"T_087d4_row21_col1\" class=\"data row21 col1\" >-1</td>\n",
       "    </tr>\n",
       "    <tr>\n",
       "      <th id=\"T_087d4_level0_row22\" class=\"row_heading level0 row22\" >22</th>\n",
       "      <td id=\"T_087d4_row22_col0\" class=\"data row22 col0\" >Use GPU</td>\n",
       "      <td id=\"T_087d4_row22_col1\" class=\"data row22 col1\" >False</td>\n",
       "    </tr>\n",
       "    <tr>\n",
       "      <th id=\"T_087d4_level0_row23\" class=\"row_heading level0 row23\" >23</th>\n",
       "      <td id=\"T_087d4_row23_col0\" class=\"data row23 col0\" >Log Experiment</td>\n",
       "      <td id=\"T_087d4_row23_col1\" class=\"data row23 col1\" >False</td>\n",
       "    </tr>\n",
       "    <tr>\n",
       "      <th id=\"T_087d4_level0_row24\" class=\"row_heading level0 row24\" >24</th>\n",
       "      <td id=\"T_087d4_row24_col0\" class=\"data row24 col0\" >Experiment Name</td>\n",
       "      <td id=\"T_087d4_row24_col1\" class=\"data row24 col1\" >reg-default-name</td>\n",
       "    </tr>\n",
       "    <tr>\n",
       "      <th id=\"T_087d4_level0_row25\" class=\"row_heading level0 row25\" >25</th>\n",
       "      <td id=\"T_087d4_row25_col0\" class=\"data row25 col0\" >USI</td>\n",
       "      <td id=\"T_087d4_row25_col1\" class=\"data row25 col1\" >66d3</td>\n",
       "    </tr>\n",
       "  </tbody>\n",
       "</table>\n"
      ],
      "text/plain": [
       "<pandas.io.formats.style.Styler at 0x7f5b5f4d43a0>"
      ]
     },
     "metadata": {},
     "output_type": "display_data"
    },
    {
     "data": {
      "text/plain": [
       "<pycaret.regression.oop.RegressionExperiment at 0x7f5b8e65e590>"
      ]
     },
     "execution_count": 14,
     "metadata": {},
     "output_type": "execute_result"
    }
   ],
   "source": [
    "load_experiment(os.path.join(cfg.paths.models_dir, \"experiment-\"+cfg.file_names.ml_profiling_best),\n",
    "                data = pd.read_csv(os.path.join(cfg.paths.processed_data_dir, cfg.file_names.processed_data), \n",
    "                   #encoding=cfg.general_ml.encoding,\n",
    "                   ))"
   ]
  },
  {
   "cell_type": "code",
   "execution_count": 16,
   "metadata": {},
   "outputs": [
    {
     "name": "stdout",
     "output_type": "stream",
     "text": [
      "API successfully created. This function only creates a POST API, it doesn't run it automatically. To run your API, please run this command --> !python /home/jagpascoe/democlient-sklearn/dif-s-mxretailsalary1/models/ml_profiling_best.py\n"
     ]
    }
   ],
   "source": [
    "create_api(selected_model, os.path.join(cfg.paths.models_dir, cfg.file_names.ml_profiling_best))"
   ]
  },
  {
   "cell_type": "markdown",
   "metadata": {},
   "source": [
    "## creating docker config files\n",
    "This function creates a Dockerfile and requirements.txt for productionalizing API end-point."
   ]
  },
  {
   "cell_type": "code",
   "execution_count": 16,
   "metadata": {},
   "outputs": [
    {
     "name": "stdout",
     "output_type": "stream",
     "text": [
      "Writing requirements.txt\n",
      "Writing Dockerfile\n",
      "Dockerfile and requirements.txt successfully created.\n",
      "    To build image you have to run --> !docker image build -f \"Dockerfile\" -t IMAGE_NAME:IMAGE_TAG .\n",
      "            \n"
     ]
    }
   ],
   "source": [
    "\n",
    "create_docker(os.path.join(cfg.paths.api, cfg.file_names.api_ml_profiling))"
   ]
  },
  {
   "cell_type": "markdown",
   "metadata": {},
   "source": [
    "## create an app\n",
    "This function creates a basic gradio app for inference. It will later be expanded for other app types such Streamlit."
   ]
  },
  {
   "cell_type": "code",
   "execution_count": 17,
   "metadata": {},
   "outputs": [
    {
     "name": "stdout",
     "output_type": "stream",
     "text": [
      "Running on local URL:  http://127.0.0.1:7860\n",
      "\n",
      "To create a public link, set `share=True` in `launch()`.\n"
     ]
    },
    {
     "data": {
      "text/html": [
       "<div><iframe src=\"http://127.0.0.1:7860/\" width=\"100%\" height=\"500\" allow=\"autoplay; camera; microphone; clipboard-read; clipboard-write;\" frameborder=\"0\" allowfullscreen></iframe></div>"
      ],
      "text/plain": [
       "<IPython.core.display.HTML object>"
      ]
     },
     "metadata": {},
     "output_type": "display_data"
    },
    {
     "data": {
      "text/plain": []
     },
     "execution_count": 17,
     "metadata": {},
     "output_type": "execute_result"
    },
    {
     "data": {
      "text/html": [],
      "text/plain": [
       "<IPython.core.display.HTML object>"
      ]
     },
     "metadata": {},
     "output_type": "display_data"
    }
   ],
   "source": [
    "create_app(selected_model)"
   ]
  },
  {
   "cell_type": "code",
   "execution_count": null,
   "metadata": {},
   "outputs": [],
   "source": []
  }
 ],
 "metadata": {
  "colab": {
   "provenance": []
  },
  "kernelspec": {
   "display_name": "Python 3 (ipykernel)",
   "language": "python",
   "name": "python3"
  },
  "language_info": {
   "codemirror_mode": {
    "name": "ipython",
    "version": 3
   },
   "file_extension": ".py",
   "mimetype": "text/x-python",
   "name": "python",
   "nbconvert_exporter": "python",
   "pygments_lexer": "ipython3",
   "version": "3.10.6"
  }
 },
 "nbformat": 4,
 "nbformat_minor": 1
}
